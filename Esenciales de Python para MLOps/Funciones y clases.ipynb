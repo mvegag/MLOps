{
 "cells": [
  {
   "cell_type": "markdown",
   "source": [
    "## Básicos de una función\n",
    "\n",
    "### Estructura y valores    "
   ],
   "metadata": {
    "collapsed": false
   },
   "id": "48ff3bd90003294c"
  },
  {
   "cell_type": "code",
   "execution_count": 1,
   "id": "initial_id",
   "metadata": {
    "collapsed": true,
    "ExecuteTime": {
     "end_time": "2024-02-23T09:06:05.581144200Z",
     "start_time": "2024-02-23T09:06:05.571094400Z"
    }
   },
   "outputs": [],
   "source": [
    "def simple():                    # se empieza a crear con la palabra clave def\n",
    "    print(\"Esta es una función\") # se tiene que identar lo que se vaya a hacer en la función"
   ]
  },
  {
   "cell_type": "code",
   "outputs": [
    {
     "name": "stdout",
     "output_type": "stream",
     "text": [
      "Esta es una función\n"
     ]
    }
   ],
   "source": [
    "# Ahora se puede llamar la función\n",
    "simple()"
   ],
   "metadata": {
    "collapsed": false,
    "ExecuteTime": {
     "end_time": "2024-02-23T09:06:11.441974500Z",
     "start_time": "2024-02-23T09:06:11.436861500Z"
    }
   },
   "id": "cbd81a673913c27a",
   "execution_count": 2
  },
  {
   "cell_type": "code",
   "outputs": [
    {
     "name": "stdout",
     "output_type": "stream",
     "text": [
      "Esta es una función\n",
      "El valores del resultado es: None\n"
     ]
    }
   ],
   "source": [
    "# Las funciones a veces no devuelven valores\n",
    "\n",
    "resultado = simple()\n",
    "print(\"El valores del resultado es:\", resultado)"
   ],
   "metadata": {
    "collapsed": false,
    "ExecuteTime": {
     "end_time": "2024-02-23T09:07:19.828812Z",
     "start_time": "2024-02-23T09:07:19.825801500Z"
    }
   },
   "id": "aeae628be8215eb1",
   "execution_count": 3
  },
  {
   "cell_type": "code",
   "outputs": [
    {
     "name": "stdout",
     "output_type": "stream",
     "text": [
      "El valor de resultado es: Este es un valor para devolver\n"
     ]
    }
   ],
   "source": [
    "# Si se quiere devolver un valor\n",
    "\n",
    "def producir():\n",
    "    return \"Este es un valor para devolver\"\n",
    "\n",
    "resultado = producir()\n",
    "print(\"El valor de resultado es:\", resultado)"
   ],
   "metadata": {
    "collapsed": false,
    "ExecuteTime": {
     "end_time": "2024-02-23T09:08:38.249863700Z",
     "start_time": "2024-02-23T09:08:38.247919Z"
    }
   },
   "id": "2fab9f1ba4d68e9c",
   "execution_count": 4
  },
  {
   "cell_type": "code",
   "outputs": [
    {
     "data": {
      "text/plain": "25"
     },
     "execution_count": 6,
     "metadata": {},
     "output_type": "execute_result"
    }
   ],
   "source": [
    "# una función con argumentos requeridos\n",
    "\n",
    "def cuadrado(numero):\n",
    "    return numero**2\n",
    "\n",
    "cuadrado(5)"
   ],
   "metadata": {
    "collapsed": false,
    "ExecuteTime": {
     "end_time": "2024-02-23T09:13:09.506849300Z",
     "start_time": "2024-02-23T09:13:09.492774400Z"
    }
   },
   "id": "e0ab71dbc77047cf",
   "execution_count": 6
  },
  {
   "cell_type": "code",
   "outputs": [
    {
     "ename": "TypeError",
     "evalue": "cuadrado() missing 1 required positional argument: 'numero'",
     "output_type": "error",
     "traceback": [
      "\u001B[1;31m---------------------------------------------------------------------------\u001B[0m",
      "\u001B[1;31mTypeError\u001B[0m                                 Traceback (most recent call last)",
      "Cell \u001B[1;32mIn[7], line 3\u001B[0m\n\u001B[0;32m      1\u001B[0m \u001B[38;5;66;03m# no se puede llamar la función sin el argumento\u001B[39;00m\n\u001B[1;32m----> 3\u001B[0m cuadrado()\n",
      "\u001B[1;31mTypeError\u001B[0m: cuadrado() missing 1 required positional argument: 'numero'"
     ]
    }
   ],
   "source": [
    "# no se puede llamar la función sin el argumento\n",
    "\n",
    "cuadrado()"
   ],
   "metadata": {
    "collapsed": false,
    "ExecuteTime": {
     "end_time": "2024-02-23T09:13:33.068048500Z",
     "start_time": "2024-02-23T09:13:32.584961100Z"
    }
   },
   "id": "399d935c2216c6e",
   "execution_count": 7
  },
  {
   "cell_type": "code",
   "outputs": [
    {
     "data": {
      "text/plain": "0"
     },
     "execution_count": 8,
     "metadata": {},
     "output_type": "execute_result"
    }
   ],
   "source": [
    "# hay funciones con argumentos opcionales\n",
    "\n",
    "int()"
   ],
   "metadata": {
    "collapsed": false,
    "ExecuteTime": {
     "end_time": "2024-02-23T09:13:55.584227700Z",
     "start_time": "2024-02-23T09:13:55.580926600Z"
    }
   },
   "id": "87775803b15b029e",
   "execution_count": 8
  },
  {
   "cell_type": "code",
   "outputs": [
    {
     "data": {
      "text/plain": "10"
     },
     "execution_count": 9,
     "metadata": {},
     "output_type": "execute_result"
    }
   ],
   "source": [
    "# también se puede usar un argumento\n",
    "\n",
    "int(\"10\")"
   ],
   "metadata": {
    "collapsed": false,
    "ExecuteTime": {
     "end_time": "2024-02-23T09:14:15.935995100Z",
     "start_time": "2024-02-23T09:14:15.929483100Z"
    }
   },
   "id": "b0bd78bd1184fff0",
   "execution_count": 9
  },
  {
   "cell_type": "code",
   "outputs": [],
   "source": [
    "# un argumento opcional usa un \"argumento de palabra clave\"\n",
    "\n",
    "def saludo(nombre_completo = \"John Doe\"):\n",
    "    print(\"Saludos\", nombre_completo)"
   ],
   "metadata": {
    "collapsed": false,
    "ExecuteTime": {
     "end_time": "2024-02-23T09:15:07.505006100Z",
     "start_time": "2024-02-23T09:15:07.502912500Z"
    }
   },
   "id": "6cf2281ceb3ad6bf",
   "execution_count": 10
  },
  {
   "cell_type": "code",
   "outputs": [
    {
     "name": "stdout",
     "output_type": "stream",
     "text": [
      "Saludos John Doe\n"
     ]
    }
   ],
   "source": [
    "# se puede llamar la función con o sin argumento\n",
    "\n",
    "saludo()"
   ],
   "metadata": {
    "collapsed": false,
    "ExecuteTime": {
     "end_time": "2024-02-23T09:15:25.700135100Z",
     "start_time": "2024-02-23T09:15:25.697628700Z"
    }
   },
   "id": "ad383a4a0906a923",
   "execution_count": 11
  },
  {
   "cell_type": "code",
   "outputs": [
    {
     "name": "stdout",
     "output_type": "stream",
     "text": [
      "Saludos Mateo\n"
     ]
    }
   ],
   "source": [
    "saludo(\"Mateo\")"
   ],
   "metadata": {
    "collapsed": false,
    "ExecuteTime": {
     "end_time": "2024-02-23T09:15:43.860078800Z",
     "start_time": "2024-02-23T09:15:43.856539400Z"
    }
   },
   "id": "e6caceeeb5440776",
   "execution_count": 12
  },
  {
   "cell_type": "code",
   "outputs": [
    {
     "name": "stdout",
     "output_type": "stream",
     "text": [
      "Saludos Dr. Vega\n"
     ]
    }
   ],
   "source": [
    "# Argumentos siempre van antes de un argumento con palabra clave\n",
    "\n",
    "def saludo_formal(nombre, titulo = \"Dr.\"):\n",
    "    print(\"Saludos\", titulo, nombre)\n",
    "    \n",
    "saludo_formal(\"Vega\")"
   ],
   "metadata": {
    "collapsed": false,
    "ExecuteTime": {
     "end_time": "2024-02-23T09:16:53.717983300Z",
     "start_time": "2024-02-23T09:16:53.716472100Z"
    }
   },
   "id": "26aae0f0dcc9149d",
   "execution_count": 13
  },
  {
   "cell_type": "markdown",
   "source": [
    "## Variables y argumentos de palabra clave\n",
    "\n",
    "### Argumentos de variable\n",
    "\n",
    "Son argumentos que no tienen valores por defecto, no se sabe cuantos argumentos se van a recibir"
   ],
   "metadata": {
    "collapsed": false
   },
   "id": "9e68ae8ccdde443a"
  },
  {
   "cell_type": "code",
   "outputs": [
    {
     "name": "stdout",
     "output_type": "stream",
     "text": [
      "Mateo\n",
      "Tatiana\n",
      "Samuel\n",
      "Cecilia\n",
      "Elisa\n",
      "Andrea\n"
     ]
    }
   ],
   "source": [
    "# esta función puede recibir 0 a más argumentos\n",
    "\n",
    "def miembros_familiares(*args):\n",
    "    for nombre in args:\n",
    "        print(nombre)\n",
    "        \n",
    "miembros_familiares(\"Mateo\", \"Tatiana\", \"Samuel\", \"Cecilia\", \"Elisa\", \"Andrea\")"
   ],
   "metadata": {
    "collapsed": false,
    "ExecuteTime": {
     "end_time": "2024-02-23T09:35:06.477119300Z",
     "start_time": "2024-02-23T09:35:06.474521Z"
    }
   },
   "id": "3bd4172ed89f32bd",
   "execution_count": 14
  },
  {
   "cell_type": "code",
   "outputs": [],
   "source": [
    "# se puede llamar sin argumentos \n",
    "\n",
    "miembros_familiares()"
   ],
   "metadata": {
    "collapsed": false,
    "ExecuteTime": {
     "end_time": "2024-02-23T09:37:03.962325100Z",
     "start_time": "2024-02-23T09:37:03.959300100Z"
    }
   },
   "id": "2845696cc4718515",
   "execution_count": 16
  },
  {
   "cell_type": "code",
   "outputs": [
    {
     "name": "stdout",
     "output_type": "stream",
     "text": [
      "Mateo\n",
      "Tatiana\n"
     ]
    }
   ],
   "source": [
    "# no es necesario llamar el argumento *args\n",
    "\n",
    "def miembros_familiares(*nombres):\n",
    "    for nombre in nombres:\n",
    "        print(nombre)\n",
    "        \n",
    "miembros_familiares(\"Mateo\", \"Tatiana\")"
   ],
   "metadata": {
    "collapsed": false,
    "ExecuteTime": {
     "end_time": "2024-02-23T09:37:46.982850Z",
     "start_time": "2024-02-23T09:37:46.979861100Z"
    }
   },
   "id": "49ea87ccdd59d43a",
   "execution_count": 17
  },
  {
   "cell_type": "markdown",
   "source": [
    "## Argumentos variables con palabra clave\n",
    "\n",
    "Son argumentos que están mapeados a un valor"
   ],
   "metadata": {
    "collapsed": false
   },
   "id": "71575848cb1e9afc"
  },
  {
   "cell_type": "code",
   "outputs": [
    {
     "name": "stdout",
     "output_type": "stream",
     "text": [
      "velocidad --> lenta\n",
      "activo --> False\n",
      "peso --> 20\n"
     ]
    }
   ],
   "source": [
    "# definir una función que tome 0 o más argumentos de palabra clave\n",
    "\n",
    "def stats(**kwargs):\n",
    "    # kwargs es un diccionario ahora\n",
    "    for key, value in kwargs.items():\n",
    "        print(key, \"-->\", value)\n",
    "        \n",
    "stats(velocidad = \"lenta\", activo = False, peso = 20)"
   ],
   "metadata": {
    "collapsed": false,
    "ExecuteTime": {
     "end_time": "2024-02-23T09:42:06.885348800Z",
     "start_time": "2024-02-23T09:42:06.881843Z"
    }
   },
   "id": "1b86b2c1f2723e0f",
   "execution_count": 18
  },
  {
   "cell_type": "code",
   "outputs": [
    {
     "name": "stdout",
     "output_type": "stream",
     "text": [
      "El resultado es None\n"
     ]
    }
   ],
   "source": [
    "# como es una variable se pueden pasar 0 argumentos\n",
    "\n",
    "resultado = stats()\n",
    "print(\"El resultado es\", resultado)"
   ],
   "metadata": {
    "collapsed": false,
    "ExecuteTime": {
     "end_time": "2024-02-23T09:44:41.187171Z",
     "start_time": "2024-02-23T09:44:41.183362100Z"
    }
   },
   "id": "245f64f45bb77c22",
   "execution_count": 19
  },
  {
   "cell_type": "markdown",
   "source": [
    "## Generadores\n",
    "\n",
    "Son funciones que producen una secuencia de valores usando la palabra **yield** en lugar de devolver valores como las funciones regulares.\n",
    "\n",
    "* Generadores usan yield para devolver valores uno por uno, suspendiendo y resumiendo la ejecución entre valores.\n",
    "* Generadores guardan automáticamente entre ejecuciones.\n",
    "* Todo lo que se puede hacer con generadores se puede hacer con la clase iterativa pero los generadores son más compactos.\n",
    "* Las expresiones de generadores ofrecen una sintaxis corta similar a la comprehension de listas.\n",
    " "
   ],
   "metadata": {
    "collapsed": false
   },
   "id": "6eafefadda560ca4"
  },
  {
   "cell_type": "code",
   "outputs": [
    {
     "name": "stdout",
     "output_type": "stream",
     "text": [
      "0\n",
      "1\n",
      "2\n",
      "3\n",
      "4\n",
      "5\n",
      "6\n",
      "7\n",
      "8\n",
      "9\n",
      "10\n"
     ]
    }
   ],
   "source": [
    "# función generador que produce los numeros del 1 al 10\n",
    "\n",
    "def generador1():\n",
    "    for i in range(11):\n",
    "        yield i\n",
    "    \n",
    "for n in generador1():\n",
    "    print(n)"
   ],
   "metadata": {
    "collapsed": false,
    "ExecuteTime": {
     "end_time": "2024-02-23T15:22:56.073655600Z",
     "start_time": "2024-02-23T15:22:56.071653300Z"
    }
   },
   "id": "c693b0caf0b95241",
   "execution_count": 31
  },
  {
   "cell_type": "code",
   "outputs": [
    {
     "name": "stdout",
     "output_type": "stream",
     "text": [
      "0\n",
      "1\n",
      "1\n",
      "2\n",
      "3\n",
      "5\n",
      "8\n",
      "13\n",
      "21\n",
      "34\n"
     ]
    }
   ],
   "source": [
    "# secuencia fibonacci\n",
    "\n",
    "def gen_fibo():\n",
    "    a, b = 0, 1\n",
    "    while True:\n",
    "        yield a\n",
    "        a, b = b, a + b\n",
    "\n",
    "contador = 0\n",
    "for n in gen_fibo():\n",
    "    print(n)\n",
    "    contador += 1\n",
    "    if contador >= 10:\n",
    "        break"
   ],
   "metadata": {
    "collapsed": false,
    "ExecuteTime": {
     "end_time": "2024-02-23T15:31:47.846506800Z",
     "start_time": "2024-02-23T15:31:47.844466Z"
    }
   },
   "id": "2029b2901a47ebc5",
   "execution_count": 42
  },
  {
   "cell_type": "code",
   "outputs": [
    {
     "name": "stdout",
     "output_type": "stream",
     "text": [
      "338350\n"
     ]
    }
   ],
   "source": [
    "# Use a generator expression to calculate the sum of squares from 1 to 100\n",
    "\n",
    "suma_cuadrados = sum(x**2 for x in range(1, 101))\n",
    "print(suma_cuadrados)"
   ],
   "metadata": {
    "collapsed": false,
    "ExecuteTime": {
     "end_time": "2024-02-23T15:33:16.828353800Z",
     "start_time": "2024-02-23T15:33:16.825847900Z"
    }
   },
   "id": "5f44273fe8d05368",
   "execution_count": 43
  },
  {
   "cell_type": "code",
   "outputs": [
    {
     "name": "stdout",
     "output_type": "stream",
     "text": [
      "5\n",
      "4\n",
      "3\n",
      "2\n",
      "1\n"
     ]
    }
   ],
   "source": [
    "# Implement a generator that takes a list and loops over it in reverse order\n",
    "\n",
    "def reversa_lista(lista):\n",
    "    for i in range(len(lista) - 1, -1, -1):\n",
    "        yield lista[i]\n",
    "        \n",
    "lista = [1, 2, 3, 4, 5]\n",
    "for item in reversa_lista(lista):\n",
    "    print(item)"
   ],
   "metadata": {
    "collapsed": false,
    "ExecuteTime": {
     "end_time": "2024-02-23T15:34:53.768301400Z",
     "start_time": "2024-02-23T15:34:53.765784200Z"
    }
   },
   "id": "51c136b3729551cc",
   "execution_count": 44
  },
  {
   "cell_type": "markdown",
   "source": [
    "## Funciones\n",
    "\n",
    "las funciones más simples solo devuelven un valor"
   ],
   "metadata": {
    "collapsed": false
   },
   "id": "ff9a0331935654f2"
  },
  {
   "cell_type": "code",
   "outputs": [],
   "source": [
    "def arte_marcial_favorita():\n",
    "    return \"Taekwondo\""
   ],
   "metadata": {
    "collapsed": false,
    "ExecuteTime": {
     "end_time": "2024-02-23T16:52:51.176996500Z",
     "start_time": "2024-02-23T16:52:51.174491500Z"
    }
   },
   "id": "b4591fc902528fe9",
   "execution_count": 45
  },
  {
   "cell_type": "code",
   "outputs": [
    {
     "name": "stdout",
     "output_type": "stream",
     "text": [
      "Taekwondo\n"
     ]
    }
   ],
   "source": [
    "print(arte_marcial_favorita())"
   ],
   "metadata": {
    "collapsed": false,
    "ExecuteTime": {
     "end_time": "2024-02-23T16:53:03.573163700Z",
     "start_time": "2024-02-23T16:53:03.569620800Z"
    }
   },
   "id": "4d227b88f0c393f4",
   "execution_count": 46
  },
  {
   "cell_type": "code",
   "outputs": [
    {
     "name": "stdout",
     "output_type": "stream",
     "text": [
      "None\n"
     ]
    }
   ],
   "source": [
    "def mifunc(): pass\n",
    "res = mifunc()\n",
    "print(res)"
   ],
   "metadata": {
    "collapsed": false,
    "ExecuteTime": {
     "end_time": "2024-02-23T16:53:41.569577300Z",
     "start_time": "2024-02-23T16:53:41.567052800Z"
    }
   },
   "id": "a4d87aa76f175ae",
   "execution_count": 47
  },
  {
   "cell_type": "markdown",
   "source": [
    "### Documentar funciones"
   ],
   "metadata": {
    "collapsed": false
   },
   "id": "cf8a1fa870c5e59a"
  },
  {
   "cell_type": "code",
   "outputs": [],
   "source": [
    "def arte_marcial_favo_con_doc():\n",
    "    \"\"\" Esta función devuelve el nombre de mi arte marcial favorita\n",
    "    Más información\n",
    "    Más \n",
    "    devuelve cadena\n",
    "    \"\"\"\n",
    "    return \"Taekwondo\""
   ],
   "metadata": {
    "collapsed": false,
    "ExecuteTime": {
     "end_time": "2024-02-23T16:55:10.428594400Z",
     "start_time": "2024-02-23T16:55:10.425834100Z"
    }
   },
   "id": "51ede0bc60f4f3a4",
   "execution_count": 48
  },
  {
   "cell_type": "code",
   "outputs": [
    {
     "data": {
      "text/plain": "' Esta función devuelve el nombre de mi arte marcial favorita\\n    Más información\\n    Más \\n    devuelve cadena\\n    '"
     },
     "execution_count": 49,
     "metadata": {},
     "output_type": "execute_result"
    }
   ],
   "source": [
    "arte_marcial_favo_con_doc.__doc__"
   ],
   "metadata": {
    "collapsed": false,
    "ExecuteTime": {
     "end_time": "2024-02-23T16:55:30.252173800Z",
     "start_time": "2024-02-23T16:55:30.247525600Z"
    }
   },
   "id": "4f65eb27024645a7",
   "execution_count": 49
  },
  {
   "cell_type": "code",
   "outputs": [],
   "source": [
    "arte_marcial_favo_con_doc?"
   ],
   "metadata": {
    "collapsed": false,
    "ExecuteTime": {
     "end_time": "2024-02-23T16:55:46.269615100Z",
     "start_time": "2024-02-23T16:55:46.222796700Z"
    }
   },
   "id": "1d700b03c53c6aef",
   "execution_count": 50
  },
  {
   "cell_type": "markdown",
   "source": [
    "### Argumentos de las funciones: posicionales, palabras clave"
   ],
   "metadata": {
    "collapsed": false
   },
   "id": "431a2ec9096b5e50"
  },
  {
   "cell_type": "code",
   "outputs": [],
   "source": [
    "def practica(times):\n",
    "    print(f\"Me gustaría practicar {times} veces al día\")"
   ],
   "metadata": {
    "collapsed": false,
    "ExecuteTime": {
     "end_time": "2024-02-23T16:57:05.442612800Z",
     "start_time": "2024-02-23T16:57:05.439708400Z"
    }
   },
   "id": "6593e0696d23281a",
   "execution_count": 51
  },
  {
   "cell_type": "code",
   "outputs": [
    {
     "name": "stdout",
     "output_type": "stream",
     "text": [
      "Me gustaría practicar 2 veces al día\n"
     ]
    }
   ],
   "source": [
    "practica(2)"
   ],
   "metadata": {
    "collapsed": false,
    "ExecuteTime": {
     "end_time": "2024-02-23T16:57:10.996354Z",
     "start_time": "2024-02-23T16:57:10.991802400Z"
    }
   },
   "id": "45be18a3b36ecc3e",
   "execution_count": 52
  },
  {
   "cell_type": "markdown",
   "source": [
    "### Argumentos posicionales se procesan en orden"
   ],
   "metadata": {
    "collapsed": false
   },
   "id": "c94fdfb62edae258"
  },
  {
   "cell_type": "code",
   "outputs": [],
   "source": [
    "def practica(times, tecnica, duracion):\n",
    "    print(f\"Me gustaría practicar {tecnica}, {times} veces al dia, por {duracion} minutos\")"
   ],
   "metadata": {
    "collapsed": false,
    "ExecuteTime": {
     "end_time": "2024-02-23T16:58:50.586583Z",
     "start_time": "2024-02-23T16:58:50.581996300Z"
    }
   },
   "id": "6f40627bbdfc179f",
   "execution_count": 56
  },
  {
   "cell_type": "code",
   "outputs": [
    {
     "name": "stdout",
     "output_type": "stream",
     "text": [
      "Me gustaría practicar Piano, 3 veces al dia, por 45 minutos\n"
     ]
    }
   ],
   "source": [
    "practica(3, \"Piano\", 45)"
   ],
   "metadata": {
    "collapsed": false,
    "ExecuteTime": {
     "end_time": "2024-02-23T16:58:52.568988Z",
     "start_time": "2024-02-23T16:58:52.565356300Z"
    }
   },
   "id": "6583d7947c61e56c",
   "execution_count": 57
  },
  {
   "cell_type": "code",
   "outputs": [
    {
     "name": "stdout",
     "output_type": "stream",
     "text": [
      "Me gustaría practicar 7, Piano veces al dia, por 60 minutos\n"
     ]
    }
   ],
   "source": [
    "practica(\"Piano\", 7, 60)"
   ],
   "metadata": {
    "collapsed": false,
    "ExecuteTime": {
     "end_time": "2024-02-23T16:59:11.653566400Z",
     "start_time": "2024-02-23T16:59:11.651025300Z"
    }
   },
   "id": "d753ce3158b5495",
   "execution_count": 58
  },
  {
   "cell_type": "code",
   "outputs": [],
   "source": [
    "# Se pueden dejar valores por defecto\n",
    "\n",
    "def practica(times = 2, tecnica = \"Python\", duracion = 60):\n",
    "    print(f\"Me gustaría practicar {tecnica}, {times} veces al dia, por {duracion} minutos\")"
   ],
   "metadata": {
    "collapsed": false,
    "ExecuteTime": {
     "end_time": "2024-02-23T16:59:50.311303500Z",
     "start_time": "2024-02-23T16:59:50.307757800Z"
    }
   },
   "id": "8141339b704065b4",
   "execution_count": 59
  },
  {
   "cell_type": "code",
   "outputs": [
    {
     "name": "stdout",
     "output_type": "stream",
     "text": [
      "Me gustaría practicar Python, 2 veces al dia, por 60 minutos\n"
     ]
    }
   ],
   "source": [
    "practica()"
   ],
   "metadata": {
    "collapsed": false,
    "ExecuteTime": {
     "end_time": "2024-02-23T16:59:55.388826900Z",
     "start_time": "2024-02-23T16:59:55.385208200Z"
    }
   },
   "id": "1d5d98eda67e95ac",
   "execution_count": 60
  },
  {
   "cell_type": "markdown",
   "source": [
    "### *args y *kwargs\n",
    "\n",
    "Permiten pasar argumentos dinámicos a las funciones"
   ],
   "metadata": {
    "collapsed": false
   },
   "id": "c378393f17ec4373"
  },
  {
   "cell_type": "code",
   "outputs": [],
   "source": [
    "def tecnica_ataque(**kwargs):\n",
    "    \"\"\"Acepta cualquier número de argumentos de palabra clave \"\"\"\n",
    "    \n",
    "    for name, attack in kwargs.items():\n",
    "        print(f\"Este es una ataque que me gustaría practicar: {attack}\")"
   ],
   "metadata": {
    "collapsed": false,
    "ExecuteTime": {
     "end_time": "2024-02-23T17:04:30.554485800Z",
     "start_time": "2024-02-23T17:04:30.547430200Z"
    }
   },
   "id": "d52493f828c7c78c",
   "execution_count": 61
  },
  {
   "cell_type": "code",
   "outputs": [
    {
     "name": "stdout",
     "output_type": "stream",
     "text": [
      "Este es una ataque que me gustaría practicar: kimura\n",
      "Este es una ataque que me gustaría practicar: straight_ankle_lock\n",
      "Este es una ataque que me gustaría practicar: arm_triangle\n",
      "Este es una ataque que me gustaría practicar: charge\n"
     ]
    }
   ],
   "source": [
    "tecnica_ataque(arm_attack=\"kimura\",\n",
    "               leg_attack=\"straight_ankle_lock\",\n",
    "               neck_attack=\"arm_triangle\",\n",
    "               body_attack=\"charge\")"
   ],
   "metadata": {
    "collapsed": false,
    "ExecuteTime": {
     "end_time": "2024-02-23T17:05:05.009000100Z",
     "start_time": "2024-02-23T17:05:05.005381200Z"
    }
   },
   "id": "2af3996857d3e61",
   "execution_count": 63
  },
  {
   "cell_type": "code",
   "outputs": [
    {
     "name": "stdout",
     "output_type": "stream",
     "text": [
      "Este es una ataque que me gustaría practicar: kimura\n",
      "Este es una ataque que me gustaría practicar: straight_ankle_lock\n",
      "Este es una ataque que me gustaría practicar: arm_triangle\n",
      "Este es una ataque que me gustaría practicar: rear nake choke\n",
      "Este es una ataque que me gustaría practicar: key lock\n"
     ]
    }
   ],
   "source": [
    "# se pueden pasar todas las cosas que se quieran\n",
    "\n",
    "tecnica_ataque(arm_attack=\"kimura\",\n",
    "                  leg_attack=\"straight_ankle_lock\",\n",
    "                  neck_attach=\"arm_triangle\",\n",
    "                  attack4=\"rear nake choke\", attack5=\"key lock\")"
   ],
   "metadata": {
    "collapsed": false,
    "ExecuteTime": {
     "end_time": "2024-02-23T17:05:35.966574400Z",
     "start_time": "2024-02-23T17:05:35.962510200Z"
    }
   },
   "id": "96b3a3a698ce55fd",
   "execution_count": 64
  },
  {
   "cell_type": "markdown",
   "source": [
    "### Pasar un diccionario a la función"
   ],
   "metadata": {
    "collapsed": false
   },
   "id": "ceb1dcfa1847a5d6"
  },
  {
   "cell_type": "code",
   "outputs": [],
   "source": [
    "attacks = {\"arm_attack\":\"kimura\",\n",
    "           \"leg_attack\":\"straight_ankle_lock\",\n",
    "           \"neck_attach\":\"arm_triangle\"}"
   ],
   "metadata": {
    "collapsed": false,
    "ExecuteTime": {
     "end_time": "2024-02-23T17:06:05.855596900Z",
     "start_time": "2024-02-23T17:06:05.851682700Z"
    }
   },
   "id": "97f8c0b7ec2bc64a",
   "execution_count": 65
  },
  {
   "cell_type": "code",
   "outputs": [
    {
     "name": "stdout",
     "output_type": "stream",
     "text": [
      "Este es una ataque que me gustaría practicar: kimura\n",
      "Este es una ataque que me gustaría practicar: straight_ankle_lock\n",
      "Este es una ataque que me gustaría practicar: arm_triangle\n"
     ]
    }
   ],
   "source": [
    "tecnica_ataque(**attacks)"
   ],
   "metadata": {
    "collapsed": false,
    "ExecuteTime": {
     "end_time": "2024-02-23T17:06:20.218332700Z",
     "start_time": "2024-02-23T17:06:20.214785600Z"
    }
   },
   "id": "8fb0a8d34304135f",
   "execution_count": 67
  },
  {
   "cell_type": "markdown",
   "source": [
    "### Pasando funciones \n",
    "\n",
    "Una función se puede usar dentro de otra función "
   ],
   "metadata": {
    "collapsed": false
   },
   "id": "f7915809f88f2bad"
  },
  {
   "cell_type": "code",
   "outputs": [],
   "source": [
    "def ubicacion_ataque(tecnica):\n",
    "    \"\"\" Devuelve la ubicación de un ataque \"\"\"\n",
    "    attacks = {\"kimura\": \"arm_attack\",\n",
    "           \"straight_ankle_lock\":\"leg_attack\",\n",
    "           \"arm_triangle\":\"neck_attach\"}\n",
    "    if tecnica in attacks:\n",
    "        return attacks[tecnica]\n",
    "    return \"Desconocida\""
   ],
   "metadata": {
    "collapsed": false,
    "ExecuteTime": {
     "end_time": "2024-02-23T17:24:19.663599200Z",
     "start_time": "2024-02-23T17:24:19.660094500Z"
    }
   },
   "id": "4b51b0e1bf991112",
   "execution_count": 68
  },
  {
   "cell_type": "code",
   "outputs": [
    {
     "data": {
      "text/plain": "'arm_attack'"
     },
     "execution_count": 70,
     "metadata": {},
     "output_type": "execute_result"
    }
   ],
   "source": [
    "ubicacion_ataque(\"kimura\")"
   ],
   "metadata": {
    "collapsed": false,
    "ExecuteTime": {
     "end_time": "2024-02-23T17:24:39.847974100Z",
     "start_time": "2024-02-23T17:24:39.842002400Z"
    }
   },
   "id": "5db9f72b0a54cdcc",
   "execution_count": 70
  },
  {
   "cell_type": "code",
   "outputs": [
    {
     "data": {
      "text/plain": "'Desconocida'"
     },
     "execution_count": 71,
     "metadata": {},
     "output_type": "execute_result"
    }
   ],
   "source": [
    "ubicacion_ataque(\"bear hug\")"
   ],
   "metadata": {
    "collapsed": false,
    "ExecuteTime": {
     "end_time": "2024-02-23T17:24:50.826170600Z",
     "start_time": "2024-02-23T17:24:50.821946300Z"
    }
   },
   "id": "6dda69afbc805963",
   "execution_count": 71
  },
  {
   "cell_type": "code",
   "outputs": [],
   "source": [
    "def multiples_ataques(ubicacion_ataque_funcion):\n",
    "    \"\"\"Toma una función que categoriza los ataques y devuelve la ubicación\"\"\"\n",
    "    \n",
    "    nueva_lista_ataques = [\"rear_naked_choke\", \"americana\", \"kimura\"]\n",
    "    for ataque in nueva_lista_ataques:\n",
    "        ubicacion_ataque = ubicacion_ataque_funcion(ataque)\n",
    "        print(f\"La ubicación del ataque {ataque} es {ubicacion_ataque}\")"
   ],
   "metadata": {
    "collapsed": false,
    "ExecuteTime": {
     "end_time": "2024-02-23T17:27:18.013881Z",
     "start_time": "2024-02-23T17:27:18.010376100Z"
    }
   },
   "id": "d8324b9506417ff1",
   "execution_count": 72
  },
  {
   "cell_type": "code",
   "outputs": [
    {
     "name": "stdout",
     "output_type": "stream",
     "text": [
      "La ubicación del ataque rear_naked_choke es Desconocida\n",
      "La ubicación del ataque americana es Desconocida\n",
      "La ubicación del ataque kimura es arm_attack\n"
     ]
    }
   ],
   "source": [
    "multiples_ataques(ubicacion_ataque)"
   ],
   "metadata": {
    "collapsed": false,
    "ExecuteTime": {
     "end_time": "2024-02-23T17:27:39.657391700Z",
     "start_time": "2024-02-23T17:27:39.651815300Z"
    }
   },
   "id": "8481d7b51b49a3e8",
   "execution_count": 74
  },
  {
   "cell_type": "markdown",
   "source": [
    "### Clausura y **currying** funcional\n",
    "\n",
    "Clausura son funciones que contienen otras funciones anidadas con estado de funciones de fuera\n",
    "\n",
    "En python una forma común de usarlas en llevar registro del estado. En el ejemplo `attcak_counter` lleva registro de la cuenta de los ataques.\n",
    "\n",
    "La función interna `attack_filter` usa la palabra nonlocal para modificar una variable fuera de la función.\n",
    "\n",
    "Esto se le dice \"Currying funcional\"."
   ],
   "metadata": {
    "collapsed": false
   },
   "id": "a570ffc369069a2"
  },
  {
   "cell_type": "code",
   "outputs": [],
   "source": [
    "# nonlocal no puede modificar esta variable\n",
    "# lower_body_counter = 5\n",
    "\n",
    "def attack_counter():\n",
    "    \"\"\" Cuenta el número de ataques en una parte del cuerpo\"\"\"\n",
    "    lower_body_counter = 0\n",
    "    upper_body_counter = 0\n",
    "    def attack_filter(attack):\n",
    "        nonlocal lower_body_counter\n",
    "        nonlocal upper_body_counter\n",
    "        attacks = {\"kimura\": \"upper_body\",\n",
    "           \"straight_ankle_lock\":\"lower_body\",\n",
    "           \"arm_triangle\":\"upper_body\",\n",
    "            \"keylock\": \"upper_body\",\n",
    "            \"knee_bar\": \"lower_body\"}\n",
    "        if attack in attacks:\n",
    "            if attacks[attack] == \"upper_body\":\n",
    "                upper_body_counter += 1\n",
    "            if attacks[attack] == \"lower_body\":\n",
    "                lower_body_counter += 1\n",
    "        print(f\"Upper Body Attacks {upper_body_counter}, Lower Body Attacks {lower_body_counter}\")\n",
    "    return attack_filter"
   ],
   "metadata": {
    "collapsed": false,
    "ExecuteTime": {
     "end_time": "2024-02-23T18:12:37.780608300Z",
     "start_time": "2024-02-23T18:12:37.765546300Z"
    }
   },
   "id": "f90cc8a9dd82f2d5",
   "execution_count": 84
  },
  {
   "cell_type": "code",
   "outputs": [],
   "source": [
    "fight = attack_counter()"
   ],
   "metadata": {
    "collapsed": false,
    "ExecuteTime": {
     "end_time": "2024-02-23T18:12:39.349928100Z",
     "start_time": "2024-02-23T18:12:39.345074200Z"
    }
   },
   "id": "77319b0549347f61",
   "execution_count": 85
  },
  {
   "cell_type": "code",
   "outputs": [
    {
     "name": "stdout",
     "output_type": "stream",
     "text": [
      "Upper Body Attacks 1, Lower Body Attacks 1\n"
     ]
    }
   ],
   "source": [
    "fight(\"kimura\")"
   ],
   "metadata": {
    "collapsed": false,
    "ExecuteTime": {
     "end_time": "2024-02-23T18:13:14.628854500Z",
     "start_time": "2024-02-23T18:13:14.623846500Z"
    }
   },
   "id": "35b0c67e7d733e09",
   "execution_count": 89
  },
  {
   "cell_type": "code",
   "outputs": [
    {
     "name": "stdout",
     "output_type": "stream",
     "text": [
      "Upper Body Attacks 1, Lower Body Attacks 2\n"
     ]
    }
   ],
   "source": [
    "fight(\"knee_bar\")"
   ],
   "metadata": {
    "collapsed": false,
    "ExecuteTime": {
     "end_time": "2024-02-23T18:13:18.696373200Z",
     "start_time": "2024-02-23T18:13:18.688315900Z"
    }
   },
   "id": "6dfef8d0e3535ae4",
   "execution_count": 90
  },
  {
   "cell_type": "code",
   "outputs": [
    {
     "name": "stdout",
     "output_type": "stream",
     "text": [
      "Upper Body Attacks 2, Lower Body Attacks 2\n"
     ]
    }
   ],
   "source": [
    "fight(\"keylock\")"
   ],
   "metadata": {
    "collapsed": false,
    "ExecuteTime": {
     "end_time": "2024-02-23T18:13:23.760349900Z",
     "start_time": "2024-02-23T18:13:23.754638300Z"
    }
   },
   "id": "66d5d53d205bf0c7",
   "execution_count": 91
  },
  {
   "cell_type": "markdown",
   "source": [
    "## Funciones parciales\n",
    "\n",
    "Util para asignar valores por defecto a funciones"
   ],
   "metadata": {
    "collapsed": false
   },
   "id": "6fb083598548170f"
  },
  {
   "cell_type": "code",
   "outputs": [
    {
     "data": {
      "text/plain": "functools.partial"
     },
     "execution_count": 92,
     "metadata": {},
     "output_type": "execute_result"
    }
   ],
   "source": [
    "from functools import partial\n",
    "\n",
    "def multiple_attacks(ataque_uno, ataque_dos):\n",
    "    \"\"\"Hace dos ataques\"\"\"\n",
    "    \n",
    "    print(f\"Primer ataque {ataque_uno}\")\n",
    "    print(f\"Segundo ataque {ataque_dos}\")\n",
    "    \n",
    "attack_this = partial(multiple_attacks, \"kimura\")\n",
    "type(attack_this)"
   ],
   "metadata": {
    "collapsed": false,
    "ExecuteTime": {
     "end_time": "2024-02-23T18:15:32.328817700Z",
     "start_time": "2024-02-23T18:15:32.323042300Z"
    }
   },
   "id": "2ef8ebebbcbc05f5",
   "execution_count": 92
  },
  {
   "cell_type": "code",
   "outputs": [
    {
     "name": "stdout",
     "output_type": "stream",
     "text": [
      "Primer ataque kimura\n",
      "Segundo ataque knee-bar\n"
     ]
    }
   ],
   "source": [
    "attack_this(\"knee-bar\")"
   ],
   "metadata": {
    "collapsed": false,
    "ExecuteTime": {
     "end_time": "2024-02-23T18:15:52.362806200Z",
     "start_time": "2024-02-23T18:15:52.357189Z"
    }
   },
   "id": "cc34102bb9ae7527",
   "execution_count": 93
  },
  {
   "cell_type": "markdown",
   "source": [
    "## Lazy evaluated functions (generadores)\n",
    "\n",
    "Los generadores calculan un item a la vez. Por ejemplo se vana a devolver una cantidad infinita de ataques, pero solo se devuelven cuando la función es llamada\n"
   ],
   "metadata": {
    "collapsed": false
   },
   "id": "ca3923bf7e6d10f4"
  },
  {
   "cell_type": "code",
   "outputs": [],
   "source": [
    "def lazy_returned_random_attacks():\n",
    "    \"\"\"Yield ataques cada vez\"\"\"\n",
    "    import random\n",
    "    attacks = {\"kimura\": \"upper_body\",\n",
    "           \"straight_ankle_lock\":\"lower_body\",\n",
    "           \"arm_triangle\":\"upper_body\",\n",
    "            \"keylock\": \"upper_body\",\n",
    "            \"knee_bar\": \"lower_body\"}\n",
    "    while True:\n",
    "        random_attack = random.choices(list(attacks.keys()))\n",
    "        yield random_attack"
   ],
   "metadata": {
    "collapsed": false,
    "ExecuteTime": {
     "end_time": "2024-02-23T18:47:36.503294Z",
     "start_time": "2024-02-23T18:47:36.498734800Z"
    }
   },
   "id": "cd6280410657cabe",
   "execution_count": 94
  },
  {
   "cell_type": "code",
   "outputs": [],
   "source": [
    "attack = lazy_returned_random_attacks()"
   ],
   "metadata": {
    "collapsed": false,
    "ExecuteTime": {
     "end_time": "2024-02-23T18:47:57.294423800Z",
     "start_time": "2024-02-23T18:47:57.288828700Z"
    }
   },
   "id": "6ecd6d72ba745077",
   "execution_count": 95
  },
  {
   "cell_type": "code",
   "outputs": [
    {
     "data": {
      "text/plain": "generator"
     },
     "execution_count": 96,
     "metadata": {},
     "output_type": "execute_result"
    }
   ],
   "source": [
    "type(attack)"
   ],
   "metadata": {
    "collapsed": false,
    "ExecuteTime": {
     "end_time": "2024-02-23T18:48:03.321452Z",
     "start_time": "2024-02-23T18:48:03.316369400Z"
    }
   },
   "id": "49df7ff33509b4fa",
   "execution_count": 96
  },
  {
   "cell_type": "code",
   "outputs": [
    {
     "name": "stdout",
     "output_type": "stream",
     "text": [
      "['knee_bar']\n",
      "['straight_ankle_lock']\n",
      "['knee_bar']\n",
      "['arm_triangle']\n",
      "['knee_bar']\n",
      "['kimura']\n"
     ]
    }
   ],
   "source": [
    "for _ in range(6):\n",
    "    print(next(attack))"
   ],
   "metadata": {
    "collapsed": false,
    "ExecuteTime": {
     "end_time": "2024-02-23T18:48:18.781496Z",
     "start_time": "2024-02-23T18:48:18.774778900Z"
    }
   },
   "id": "6975a9c78e76adbf",
   "execution_count": 97
  },
  {
   "cell_type": "markdown",
   "source": [
    "## Decoradores: funciones que envuelven otras funciones\n",
    "\n",
    "### Randomized sleep decorator\n",
    "\n",
    "La sintaxis de los decoradores es envolver una función con otra función. En el ejemplo, un decorador se escribe que agrega random sleeps a cada llamada de la función. Combinado con el anterior generador de ataques infinitos, genera random sleeps entre cada llamada de la función "
   ],
   "metadata": {
    "collapsed": false
   },
   "id": "30a0de4255aaab19"
  },
  {
   "cell_type": "code",
   "outputs": [],
   "source": [
    "def randomized_speed_attack_decorator(function):\n",
    "    \"\"\"Randomiza la velocidad de los ataques\"\"\"\n",
    "    \n",
    "    import time\n",
    "    import random\n",
    "    \n",
    "    def wrapper_func(*args, **kwargs):\n",
    "        sleep_time = random.randint(0, 3)\n",
    "        print(f\"Atacando después de {sleep_time} segundos\")\n",
    "        time.sleep(sleep_time)\n",
    "        return function(*args, **kwargs)\n",
    "    return wrapper_func"
   ],
   "metadata": {
    "collapsed": false,
    "ExecuteTime": {
     "end_time": "2024-02-23T18:59:58.241903400Z",
     "start_time": "2024-02-23T18:59:58.236399100Z"
    }
   },
   "id": "7ad52b7c97fed52f",
   "execution_count": 98
  },
  {
   "cell_type": "code",
   "outputs": [],
   "source": [
    "@randomized_speed_attack_decorator\n",
    "def lazy_return_random_attacks():\n",
    "    \"\"\"Yield attacks each time\"\"\"\n",
    "    import random\n",
    "    attacks = {\"kimura\": \"upper_body\",\n",
    "           \"straight_ankle_lock\":\"lower_body\",\n",
    "           \"arm_triangle\":\"upper_body\",\n",
    "            \"keylock\": \"upper_body\",\n",
    "            \"knee_bar\": \"lower_body\"}\n",
    "    while True:\n",
    "        random_attack = random.choices(list(attacks.keys()))\n",
    "        yield random_attack"
   ],
   "metadata": {
    "collapsed": false,
    "ExecuteTime": {
     "end_time": "2024-02-23T19:01:00.833630800Z",
     "start_time": "2024-02-23T19:01:00.832126500Z"
    }
   },
   "id": "5836aa87d5c6a0e9",
   "execution_count": 101
  },
  {
   "cell_type": "code",
   "outputs": [
    {
     "name": "stdout",
     "output_type": "stream",
     "text": [
      "Atacando después de 2 segundos\n",
      "['arm_triangle']\n",
      "Atacando después de 2 segundos\n",
      "['straight_ankle_lock']\n",
      "Atacando después de 2 segundos\n",
      "['knee_bar']\n",
      "Atacando después de 3 segundos\n",
      "['kimura']\n",
      "Atacando después de 2 segundos\n",
      "['knee_bar']\n"
     ]
    }
   ],
   "source": [
    "for _ in range(5):\n",
    "    print(next(lazy_return_random_attacks()))"
   ],
   "metadata": {
    "collapsed": false,
    "ExecuteTime": {
     "end_time": "2024-02-23T19:01:15.320556200Z",
     "start_time": "2024-02-23T19:01:04.315129100Z"
    }
   },
   "id": "68e8979a5e4d5651",
   "execution_count": 102
  },
  {
   "cell_type": "markdown",
   "source": [
    "## Decorador de tiempo\n",
    "\n",
    "Usar un decorador para contabilizar el código es muy común"
   ],
   "metadata": {
    "collapsed": false
   },
   "id": "ab6427399b597101"
  },
  {
   "cell_type": "code",
   "outputs": [],
   "source": [
    "from functools import wraps\n",
    "from time import time\n",
    "\n",
    "def timing(f):\n",
    "    @wraps(f)\n",
    "    def wrap(*args, **kw):\n",
    "        ts = time()\n",
    "        result = f(*args, **kw)\n",
    "        te = time()\n",
    "        print(f\"fun: {f.__name__}, args: [{args}, {kw}] took: {te:ts} sec\")"
   ],
   "metadata": {
    "collapsed": false,
    "ExecuteTime": {
     "end_time": "2024-02-23T19:03:45.717043100Z",
     "start_time": "2024-02-23T19:03:45.712538200Z"
    }
   },
   "id": "543fa45de1eb5b29",
   "execution_count": 103
  },
  {
   "cell_type": "code",
   "outputs": [],
   "source": [
    "@timing\n",
    "def some_attacks():\n",
    "    attack"
   ],
   "metadata": {
    "collapsed": false
   },
   "id": "6bb7ff95a0372b2d"
  }
 ],
 "metadata": {
  "kernelspec": {
   "display_name": "Python 3",
   "language": "python",
   "name": "python3"
  },
  "language_info": {
   "codemirror_mode": {
    "name": "ipython",
    "version": 2
   },
   "file_extension": ".py",
   "mimetype": "text/x-python",
   "name": "python",
   "nbconvert_exporter": "python",
   "pygments_lexer": "ipython2",
   "version": "2.7.6"
  }
 },
 "nbformat": 4,
 "nbformat_minor": 5
}
