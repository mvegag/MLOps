{
 "cells": [
  {
   "cell_type": "markdown",
   "source": [
    "## Variables y asignación\n",
    "\n",
    "Las variables pueden venir directamente de una asignación o asignando un valor resultante a la variable. **Lo mejor es siempre usar variables que tengan sentido**. "
   ],
   "metadata": {
    "collapsed": false
   },
   "id": "a0bb752b251f853e"
  },
  {
   "cell_type": "code",
   "execution_count": 1,
   "id": "initial_id",
   "metadata": {
    "collapsed": true,
    "ExecuteTime": {
     "end_time": "2024-01-04T08:22:01.912960400Z",
     "start_time": "2024-01-04T08:22:01.905384700Z"
    }
   },
   "outputs": [],
   "source": [
    "# asignar\n",
    "\n",
    "nombre   = 'Mateo'\n",
    "apellido = 'Vega'"
   ]
  },
  {
   "cell_type": "code",
   "outputs": [],
   "source": [
    "# no hay que preocuparse del tipo del valor \n",
    "\n",
    "altura    = 10000\n",
    "distancia = 1.33\n",
    "fecha     = 'Jueves'"
   ],
   "metadata": {
    "collapsed": false,
    "ExecuteTime": {
     "end_time": "2024-01-04T08:22:59.626219200Z",
     "start_time": "2024-01-04T08:22:59.622340200Z"
    }
   },
   "id": "df9df3d4c0d35db8",
   "execution_count": 2
  },
  {
   "cell_type": "code",
   "outputs": [
    {
     "data": {
      "text/plain": "'Tatiana'"
     },
     "execution_count": 3,
     "metadata": {},
     "output_type": "execute_result"
    }
   ],
   "source": [
    "# se pueden reasignar variables\n",
    "\n",
    "nombre = 'Tatiana'\n",
    "nombre"
   ],
   "metadata": {
    "collapsed": false,
    "ExecuteTime": {
     "end_time": "2024-01-04T08:24:36.848088700Z",
     "start_time": "2024-01-04T08:24:36.841145200Z"
    }
   },
   "id": "c1643204723dd184",
   "execution_count": 3
  },
  {
   "cell_type": "code",
   "outputs": [
    {
     "name": "stdout",
     "output_type": "stream",
     "text": [
      "Tatiana Vega\n"
     ]
    }
   ],
   "source": [
    "# usar print() con las variables\n",
    "\n",
    "print(nombre, apellido)"
   ],
   "metadata": {
    "collapsed": false,
    "ExecuteTime": {
     "end_time": "2024-01-04T08:25:03.057441Z",
     "start_time": "2024-01-04T08:25:03.054825900Z"
    }
   },
   "id": "e2240f04b5d50dcd",
   "execution_count": 4
  },
  {
   "cell_type": "code",
   "outputs": [
    {
     "data": {
      "text/plain": "'Tatiana Vega'"
     },
     "execution_count": 5,
     "metadata": {},
     "output_type": "execute_result"
    }
   ],
   "source": [
    "# crear variables nuevas de variables existentes\n",
    "\n",
    "nombre_completo = f\"{nombre} {apellido}\"\n",
    "nombre_completo"
   ],
   "metadata": {
    "collapsed": false,
    "ExecuteTime": {
     "end_time": "2024-01-04T08:26:30.067248100Z",
     "start_time": "2024-01-04T08:26:30.061412900Z"
    }
   },
   "id": "6e56fcf77c4ea396",
   "execution_count": 5
  },
  {
   "cell_type": "code",
   "outputs": [
    {
     "name": "stdout",
     "output_type": "stream",
     "text": [
      "Tatiana Vega es una persona\n"
     ]
    }
   ],
   "source": [
    "# imprimir variables con print()\n",
    "\n",
    "print(nombre, apellido, 'es una persona') # la coma agrega un espacio"
   ],
   "metadata": {
    "collapsed": false,
    "ExecuteTime": {
     "end_time": "2024-01-04T08:29:14.353173600Z",
     "start_time": "2024-01-04T08:29:14.351663700Z"
    }
   },
   "id": "cf109cb0bc5fe527",
   "execution_count": 6
  },
  {
   "cell_type": "markdown",
   "source": [
    "## Tipos de datos\n",
    "\n",
    "### Cadenas de texto"
   ],
   "metadata": {
    "collapsed": false
   },
   "id": "7ae90e3e2ea3dab7"
  },
  {
   "cell_type": "code",
   "outputs": [
    {
     "name": "stdout",
     "output_type": "stream",
     "text": [
      "Mateo Vega\n",
      "Mateo Vega\n",
      "Mateo Vega\n"
     ]
    }
   ],
   "source": [
    "# Se pueden asignar con comillas simples, dobles o triples\n",
    "\n",
    "nombre_completo = 'Mateo Vega'\n",
    "print(nombre_completo)\n",
    "nombre_completo = \"Mateo Vega\"\n",
    "print(nombre_completo)\n",
    "nombre_completo = \"\"\"Mateo Vega\"\"\"\n",
    "print(nombre_completo)"
   ],
   "metadata": {
    "collapsed": false,
    "ExecuteTime": {
     "end_time": "2024-01-04T08:31:50.518376600Z",
     "start_time": "2024-01-04T08:31:50.516363300Z"
    }
   },
   "id": "fffbeb47eedc831a",
   "execution_count": 7
  },
  {
   "cell_type": "code",
   "outputs": [
    {
     "name": "stdout",
     "output_type": "stream",
     "text": [
      "Las comillas triples son útiles cuando hay ' o \" dentro de la cadena\n"
     ]
    }
   ],
   "source": [
    "# Las comillas triples son útiles cuando hay comillas dentro de la cadena\n",
    "\n",
    "resumen = \"\"\"Las comillas triples son útiles cuando hay ' o \" dentro de la cadena\"\"\"\n",
    "print(resumen)"
   ],
   "metadata": {
    "collapsed": false,
    "ExecuteTime": {
     "end_time": "2024-01-04T08:32:59.764100200Z",
     "start_time": "2024-01-04T08:32:59.763089800Z"
    }
   },
   "id": "d13fa0e032abaff",
   "execution_count": 9
  },
  {
   "cell_type": "code",
   "outputs": [
    {
     "name": "stdout",
     "output_type": "stream",
     "text": [
      "Usar las comillas individuales cuando hay una \" dentro de la cadena\n",
      "Usar las comillas dobles cuando hay una ' dentro de la cadena\n"
     ]
    }
   ],
   "source": [
    "# se pueden usar comillas individuales cuando hay comillas en la cadena\n",
    "\n",
    "resumen = 'Usar las comillas individuales cuando hay una \" dentro de la cadena'\n",
    "print(resumen)\n",
    "resumen = \"Usar las comillas dobles cuando hay una ' dentro de la cadena\"\n",
    "print(resumen)"
   ],
   "metadata": {
    "collapsed": false,
    "ExecuteTime": {
     "end_time": "2024-01-04T08:35:20.741274900Z",
     "start_time": "2024-01-04T08:35:20.739344200Z"
    }
   },
   "id": "6554503028e6f106",
   "execution_count": 10
  },
  {
   "cell_type": "code",
   "outputs": [
    {
     "name": "stdout",
     "output_type": "stream",
     "text": [
      "El estudiante se llama Mateo\n"
     ]
    }
   ],
   "source": [
    "# Se puede añadir cadenas a otras cadenas\n",
    "\n",
    "nombre    = 'Mateo'\n",
    "resultado = 'El estudiante se llama ' + nombre\n",
    "print(resultado)"
   ],
   "metadata": {
    "collapsed": false,
    "ExecuteTime": {
     "end_time": "2024-01-04T08:36:49.730932200Z",
     "start_time": "2024-01-04T08:36:49.729426600Z"
    }
   },
   "id": "afd624276c74ac5d",
   "execution_count": 11
  },
  {
   "cell_type": "code",
   "outputs": [
    {
     "name": "stdout",
     "output_type": "stream",
     "text": [
      "Mateo es un estudiante\n"
     ]
    }
   ],
   "source": [
    "# Usar cadenas f para agregar variables a la cadena\n",
    "\n",
    "resultado = f\"{nombre} es un estudiante\"\n",
    "print(resultado)"
   ],
   "metadata": {
    "collapsed": false,
    "ExecuteTime": {
     "end_time": "2024-01-04T08:37:39.060742900Z",
     "start_time": "2024-01-04T08:37:39.057723100Z"
    }
   },
   "id": "65ead5ce9ca75298",
   "execution_count": 12
  },
  {
   "cell_type": "markdown",
   "source": [
    "### Enteros\n",
    "\n",
    "Los enteros se representan en python como `int`"
   ],
   "metadata": {
    "collapsed": false
   },
   "id": "1a8d43bea2f54573"
  },
  {
   "cell_type": "code",
   "outputs": [
    {
     "data": {
      "text/plain": "int"
     },
     "execution_count": 13,
     "metadata": {},
     "output_type": "execute_result"
    }
   ],
   "source": [
    "# Usar type() para ver el tipo de datos\n",
    "type(15)"
   ],
   "metadata": {
    "collapsed": false,
    "ExecuteTime": {
     "end_time": "2024-01-04T08:38:58.738973700Z",
     "start_time": "2024-01-04T08:38:58.736109500Z"
    }
   },
   "id": "5c32d2f3c3121f97",
   "execution_count": 13
  },
  {
   "cell_type": "code",
   "outputs": [
    {
     "data": {
      "text/plain": "7.0"
     },
     "execution_count": 14,
     "metadata": {},
     "output_type": "execute_result"
    }
   ],
   "source": [
    "# se pueden hacer operaciones matemáticas\n",
    "\n",
    "14 / 2"
   ],
   "metadata": {
    "collapsed": false,
    "ExecuteTime": {
     "end_time": "2024-01-04T08:39:21.314229100Z",
     "start_time": "2024-01-04T08:39:21.310817300Z"
    }
   },
   "id": "2c718bf4363098d",
   "execution_count": 14
  },
  {
   "cell_type": "code",
   "outputs": [
    {
     "ename": "TypeError",
     "evalue": "unsupported operand type(s) for +: 'int' and 'str'",
     "output_type": "error",
     "traceback": [
      "\u001B[1;31m---------------------------------------------------------------------------\u001B[0m",
      "\u001B[1;31mTypeError\u001B[0m                                 Traceback (most recent call last)",
      "Cell \u001B[1;32mIn[15], line 3\u001B[0m\n\u001B[0;32m      1\u001B[0m \u001B[38;5;66;03m# cuidado al mezclar tipos de variables\u001B[39;00m\n\u001B[1;32m----> 3\u001B[0m \u001B[38;5;241m7\u001B[39m \u001B[38;5;241m+\u001B[39m \u001B[38;5;124m'\u001B[39m\u001B[38;5;124m14\u001B[39m\u001B[38;5;124m'\u001B[39m\n",
      "\u001B[1;31mTypeError\u001B[0m: unsupported operand type(s) for +: 'int' and 'str'"
     ]
    }
   ],
   "source": [
    "# cuidado al mezclar tipos de variables\n",
    "\n",
    "7 + '14'"
   ],
   "metadata": {
    "collapsed": false,
    "ExecuteTime": {
     "end_time": "2024-01-04T08:39:56.246291500Z",
     "start_time": "2024-01-04T08:39:55.725177700Z"
    }
   },
   "id": "d3ec15ea4ef1a377",
   "execution_count": 15
  },
  {
   "cell_type": "markdown",
   "source": [
    "### Flotantes\n",
    "\n",
    "Se representan en python como `float`"
   ],
   "metadata": {
    "collapsed": false
   },
   "id": "4d467759deb043cf"
  },
  {
   "cell_type": "code",
   "outputs": [
    {
     "data": {
      "text/plain": "float"
     },
     "execution_count": 17,
     "metadata": {},
     "output_type": "execute_result"
    }
   ],
   "source": [
    "type(15.6)"
   ],
   "metadata": {
    "collapsed": false,
    "ExecuteTime": {
     "end_time": "2024-01-04T08:46:59.878845700Z",
     "start_time": "2024-01-04T08:46:59.874655400Z"
    }
   },
   "id": "2e0679c82291ce18",
   "execution_count": 17
  },
  {
   "cell_type": "code",
   "outputs": [
    {
     "data": {
      "text/plain": "9.160714285714286"
     },
     "execution_count": 18,
     "metadata": {},
     "output_type": "execute_result"
    }
   ],
   "source": [
    "513/56"
   ],
   "metadata": {
    "collapsed": false,
    "ExecuteTime": {
     "end_time": "2024-01-04T08:47:12.029982900Z",
     "start_time": "2024-01-04T08:47:12.027457100Z"
    }
   },
   "id": "bb73369ad90cf949",
   "execution_count": 18
  },
  {
   "cell_type": "markdown",
   "source": [
    "### Booleanos\n",
    "\n",
    "Se representan en python como `bool`, toman valores de `True` o `False`. Otroas tipos pueden representarlos como 1 y 0."
   ],
   "metadata": {
    "collapsed": false
   },
   "id": "28aabfc3e9c35a9d"
  },
  {
   "cell_type": "code",
   "outputs": [
    {
     "data": {
      "text/plain": "bool"
     },
     "execution_count": 19,
     "metadata": {},
     "output_type": "execute_result"
    }
   ],
   "source": [
    "type(True)"
   ],
   "metadata": {
    "collapsed": false,
    "ExecuteTime": {
     "end_time": "2024-01-04T08:48:12.431026700Z",
     "start_time": "2024-01-04T08:48:12.428500900Z"
    }
   },
   "id": "9e978236be44b750",
   "execution_count": 19
  },
  {
   "cell_type": "code",
   "outputs": [
    {
     "name": "stdout",
     "output_type": "stream",
     "text": [
      "True\n",
      "False\n"
     ]
    }
   ],
   "source": [
    "# se pueden convertir 1 y 0 a booleanos\n",
    "\n",
    "print(bool(1))\n",
    "print(bool(0))"
   ],
   "metadata": {
    "collapsed": false,
    "ExecuteTime": {
     "end_time": "2024-01-04T08:49:19.733539400Z",
     "start_time": "2024-01-04T08:49:19.731481300Z"
    }
   },
   "id": "aecafc1bb1fca95b",
   "execution_count": 20
  },
  {
   "cell_type": "markdown",
   "source": [
    "### None\n",
    "\n",
    "`None` indica un valor nulo. Es tipo `NoneType`."
   ],
   "metadata": {
    "collapsed": false
   },
   "id": "becfc8bb43c0c81f"
  },
  {
   "cell_type": "code",
   "outputs": [
    {
     "data": {
      "text/plain": "NoneType"
     },
     "execution_count": 21,
     "metadata": {},
     "output_type": "execute_result"
    }
   ],
   "source": [
    "# se puede asignar a una variable\n",
    "\n",
    "type(None)"
   ],
   "metadata": {
    "collapsed": false,
    "ExecuteTime": {
     "end_time": "2024-01-04T08:50:15.792564800Z",
     "start_time": "2024-01-04T08:50:15.789986Z"
    }
   },
   "id": "dd4140c27f1ae5c2",
   "execution_count": 21
  },
  {
   "cell_type": "code",
   "outputs": [
    {
     "name": "stdout",
     "output_type": "stream",
     "text": [
      "None\n"
     ]
    }
   ],
   "source": [
    "x = None\n",
    "print(x)"
   ],
   "metadata": {
    "collapsed": false,
    "ExecuteTime": {
     "end_time": "2024-01-04T08:50:29.989412700Z",
     "start_time": "2024-01-04T08:50:29.985748800Z"
    }
   },
   "id": "9c6abb58aa1b741e",
   "execution_count": 22
  }
 ],
 "metadata": {
  "kernelspec": {
   "display_name": "Python 3",
   "language": "python",
   "name": "python3"
  },
  "language_info": {
   "codemirror_mode": {
    "name": "ipython",
    "version": 2
   },
   "file_extension": ".py",
   "mimetype": "text/x-python",
   "name": "python",
   "nbconvert_exporter": "python",
   "pygments_lexer": "ipython2",
   "version": "2.7.6"
  }
 },
 "nbformat": 4,
 "nbformat_minor": 5
}
