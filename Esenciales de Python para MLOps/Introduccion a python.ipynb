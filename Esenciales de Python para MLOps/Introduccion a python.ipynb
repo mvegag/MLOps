{
 "cells": [
  {
   "cell_type": "markdown",
   "source": [
    "## Variables y asignación\n",
    "\n",
    "Las variables pueden venir directamente de una asignación o asignando un valor resultante a la variable. **Lo mejor es siempre usar variables que tengan sentido**. "
   ],
   "metadata": {
    "collapsed": false
   },
   "id": "a0bb752b251f853e"
  },
  {
   "cell_type": "code",
   "execution_count": 1,
   "id": "initial_id",
   "metadata": {
    "collapsed": true,
    "ExecuteTime": {
     "end_time": "2024-01-04T08:22:01.912960400Z",
     "start_time": "2024-01-04T08:22:01.905384700Z"
    }
   },
   "outputs": [],
   "source": [
    "# asignar\n",
    "\n",
    "nombre   = 'Mateo'\n",
    "apellido = 'Vega'"
   ]
  },
  {
   "cell_type": "code",
   "outputs": [],
   "source": [
    "# no hay que preocuparse del tipo del valor \n",
    "\n",
    "altura    = 10000\n",
    "distancia = 1.33\n",
    "fecha     = 'Jueves'"
   ],
   "metadata": {
    "collapsed": false,
    "ExecuteTime": {
     "end_time": "2024-01-04T08:22:59.626219200Z",
     "start_time": "2024-01-04T08:22:59.622340200Z"
    }
   },
   "id": "df9df3d4c0d35db8",
   "execution_count": 2
  },
  {
   "cell_type": "code",
   "outputs": [
    {
     "data": {
      "text/plain": "'Tatiana'"
     },
     "execution_count": 3,
     "metadata": {},
     "output_type": "execute_result"
    }
   ],
   "source": [
    "# se pueden reasignar variables\n",
    "\n",
    "nombre = 'Tatiana'\n",
    "nombre"
   ],
   "metadata": {
    "collapsed": false,
    "ExecuteTime": {
     "end_time": "2024-01-04T08:24:36.848088700Z",
     "start_time": "2024-01-04T08:24:36.841145200Z"
    }
   },
   "id": "c1643204723dd184",
   "execution_count": 3
  },
  {
   "cell_type": "code",
   "outputs": [
    {
     "name": "stdout",
     "output_type": "stream",
     "text": [
      "Tatiana Vega\n"
     ]
    }
   ],
   "source": [
    "# usar print() con las variables\n",
    "\n",
    "print(nombre, apellido)"
   ],
   "metadata": {
    "collapsed": false,
    "ExecuteTime": {
     "end_time": "2024-01-04T08:25:03.057441Z",
     "start_time": "2024-01-04T08:25:03.054825900Z"
    }
   },
   "id": "e2240f04b5d50dcd",
   "execution_count": 4
  },
  {
   "cell_type": "code",
   "outputs": [
    {
     "data": {
      "text/plain": "'Tatiana Vega'"
     },
     "execution_count": 5,
     "metadata": {},
     "output_type": "execute_result"
    }
   ],
   "source": [
    "# crear variables nuevas de variables existentes\n",
    "\n",
    "nombre_completo = f\"{nombre} {apellido}\"\n",
    "nombre_completo"
   ],
   "metadata": {
    "collapsed": false,
    "ExecuteTime": {
     "end_time": "2024-01-04T08:26:30.067248100Z",
     "start_time": "2024-01-04T08:26:30.061412900Z"
    }
   },
   "id": "6e56fcf77c4ea396",
   "execution_count": 5
  },
  {
   "cell_type": "code",
   "outputs": [
    {
     "name": "stdout",
     "output_type": "stream",
     "text": [
      "Tatiana Vega es una persona\n"
     ]
    }
   ],
   "source": [
    "# imprimir variables con print()\n",
    "\n",
    "print(nombre, apellido, 'es una persona') # la coma agrega un espacio"
   ],
   "metadata": {
    "collapsed": false,
    "ExecuteTime": {
     "end_time": "2024-01-04T08:29:14.353173600Z",
     "start_time": "2024-01-04T08:29:14.351663700Z"
    }
   },
   "id": "cf109cb0bc5fe527",
   "execution_count": 6
  },
  {
   "cell_type": "markdown",
   "source": [
    "## Tipos de datos\n",
    "\n",
    "### Cadenas de texto"
   ],
   "metadata": {
    "collapsed": false
   },
   "id": "7ae90e3e2ea3dab7"
  },
  {
   "cell_type": "code",
   "outputs": [
    {
     "name": "stdout",
     "output_type": "stream",
     "text": [
      "Mateo Vega\n",
      "Mateo Vega\n",
      "Mateo Vega\n"
     ]
    }
   ],
   "source": [
    "# Se pueden asignar con comillas simples, dobles o triples\n",
    "\n",
    "nombre_completo = 'Mateo Vega'\n",
    "print(nombre_completo)\n",
    "nombre_completo = \"Mateo Vega\"\n",
    "print(nombre_completo)\n",
    "nombre_completo = \"\"\"Mateo Vega\"\"\"\n",
    "print(nombre_completo)"
   ],
   "metadata": {
    "collapsed": false,
    "ExecuteTime": {
     "end_time": "2024-01-04T08:31:50.518376600Z",
     "start_time": "2024-01-04T08:31:50.516363300Z"
    }
   },
   "id": "fffbeb47eedc831a",
   "execution_count": 7
  },
  {
   "cell_type": "code",
   "outputs": [
    {
     "name": "stdout",
     "output_type": "stream",
     "text": [
      "Las comillas triples son útiles cuando hay ' o \" dentro de la cadena\n"
     ]
    }
   ],
   "source": [
    "# Las comillas triples son útiles cuando hay comillas dentro de la cadena\n",
    "\n",
    "resumen = \"\"\"Las comillas triples son útiles cuando hay ' o \" dentro de la cadena\"\"\"\n",
    "print(resumen)"
   ],
   "metadata": {
    "collapsed": false,
    "ExecuteTime": {
     "end_time": "2024-01-04T08:32:59.764100200Z",
     "start_time": "2024-01-04T08:32:59.763089800Z"
    }
   },
   "id": "d13fa0e032abaff",
   "execution_count": 9
  },
  {
   "cell_type": "code",
   "outputs": [
    {
     "name": "stdout",
     "output_type": "stream",
     "text": [
      "Usar las comillas individuales cuando hay una \" dentro de la cadena\n",
      "Usar las comillas dobles cuando hay una ' dentro de la cadena\n"
     ]
    }
   ],
   "source": [
    "# se pueden usar comillas individuales cuando hay comillas en la cadena\n",
    "\n",
    "resumen = 'Usar las comillas individuales cuando hay una \" dentro de la cadena'\n",
    "print(resumen)\n",
    "resumen = \"Usar las comillas dobles cuando hay una ' dentro de la cadena\"\n",
    "print(resumen)"
   ],
   "metadata": {
    "collapsed": false,
    "ExecuteTime": {
     "end_time": "2024-01-04T08:35:20.741274900Z",
     "start_time": "2024-01-04T08:35:20.739344200Z"
    }
   },
   "id": "6554503028e6f106",
   "execution_count": 10
  },
  {
   "cell_type": "code",
   "outputs": [
    {
     "name": "stdout",
     "output_type": "stream",
     "text": [
      "El estudiante se llama Mateo\n"
     ]
    }
   ],
   "source": [
    "# Se puede añadir cadenas a otras cadenas\n",
    "\n",
    "nombre    = 'Mateo'\n",
    "resultado = 'El estudiante se llama ' + nombre\n",
    "print(resultado)"
   ],
   "metadata": {
    "collapsed": false,
    "ExecuteTime": {
     "end_time": "2024-01-04T08:36:49.730932200Z",
     "start_time": "2024-01-04T08:36:49.729426600Z"
    }
   },
   "id": "afd624276c74ac5d",
   "execution_count": 11
  },
  {
   "cell_type": "code",
   "outputs": [
    {
     "name": "stdout",
     "output_type": "stream",
     "text": [
      "Mateo es un estudiante\n"
     ]
    }
   ],
   "source": [
    "# Usar cadenas f para agregar variables a la cadena\n",
    "\n",
    "resultado = f\"{nombre} es un estudiante\"\n",
    "print(resultado)"
   ],
   "metadata": {
    "collapsed": false,
    "ExecuteTime": {
     "end_time": "2024-01-04T08:37:39.060742900Z",
     "start_time": "2024-01-04T08:37:39.057723100Z"
    }
   },
   "id": "65ead5ce9ca75298",
   "execution_count": 12
  },
  {
   "cell_type": "markdown",
   "source": [
    "### Enteros\n",
    "\n",
    "Los enteros se representan en python como `int`"
   ],
   "metadata": {
    "collapsed": false
   },
   "id": "1a8d43bea2f54573"
  },
  {
   "cell_type": "code",
   "outputs": [
    {
     "data": {
      "text/plain": "int"
     },
     "execution_count": 13,
     "metadata": {},
     "output_type": "execute_result"
    }
   ],
   "source": [
    "# Usar type() para ver el tipo de datos\n",
    "type(15)"
   ],
   "metadata": {
    "collapsed": false,
    "ExecuteTime": {
     "end_time": "2024-01-04T08:38:58.738973700Z",
     "start_time": "2024-01-04T08:38:58.736109500Z"
    }
   },
   "id": "5c32d2f3c3121f97",
   "execution_count": 13
  },
  {
   "cell_type": "code",
   "outputs": [
    {
     "data": {
      "text/plain": "7.0"
     },
     "execution_count": 14,
     "metadata": {},
     "output_type": "execute_result"
    }
   ],
   "source": [
    "# se pueden hacer operaciones matemáticas\n",
    "\n",
    "14 / 2"
   ],
   "metadata": {
    "collapsed": false,
    "ExecuteTime": {
     "end_time": "2024-01-04T08:39:21.314229100Z",
     "start_time": "2024-01-04T08:39:21.310817300Z"
    }
   },
   "id": "2c718bf4363098d",
   "execution_count": 14
  },
  {
   "cell_type": "code",
   "outputs": [
    {
     "ename": "TypeError",
     "evalue": "unsupported operand type(s) for +: 'int' and 'str'",
     "output_type": "error",
     "traceback": [
      "\u001B[1;31m---------------------------------------------------------------------------\u001B[0m",
      "\u001B[1;31mTypeError\u001B[0m                                 Traceback (most recent call last)",
      "Cell \u001B[1;32mIn[15], line 3\u001B[0m\n\u001B[0;32m      1\u001B[0m \u001B[38;5;66;03m# cuidado al mezclar tipos de variables\u001B[39;00m\n\u001B[1;32m----> 3\u001B[0m \u001B[38;5;241m7\u001B[39m \u001B[38;5;241m+\u001B[39m \u001B[38;5;124m'\u001B[39m\u001B[38;5;124m14\u001B[39m\u001B[38;5;124m'\u001B[39m\n",
      "\u001B[1;31mTypeError\u001B[0m: unsupported operand type(s) for +: 'int' and 'str'"
     ]
    }
   ],
   "source": [
    "# cuidado al mezclar tipos de variables\n",
    "\n",
    "7 + '14'"
   ],
   "metadata": {
    "collapsed": false,
    "ExecuteTime": {
     "end_time": "2024-01-04T08:39:56.246291500Z",
     "start_time": "2024-01-04T08:39:55.725177700Z"
    }
   },
   "id": "d3ec15ea4ef1a377",
   "execution_count": 15
  },
  {
   "cell_type": "markdown",
   "source": [
    "### Flotantes\n",
    "\n",
    "Se representan en python como `float`"
   ],
   "metadata": {
    "collapsed": false
   },
   "id": "4d467759deb043cf"
  },
  {
   "cell_type": "code",
   "outputs": [
    {
     "data": {
      "text/plain": "float"
     },
     "execution_count": 17,
     "metadata": {},
     "output_type": "execute_result"
    }
   ],
   "source": [
    "type(15.6)"
   ],
   "metadata": {
    "collapsed": false,
    "ExecuteTime": {
     "end_time": "2024-01-04T08:46:59.878845700Z",
     "start_time": "2024-01-04T08:46:59.874655400Z"
    }
   },
   "id": "2e0679c82291ce18",
   "execution_count": 17
  },
  {
   "cell_type": "code",
   "outputs": [
    {
     "data": {
      "text/plain": "9.160714285714286"
     },
     "execution_count": 18,
     "metadata": {},
     "output_type": "execute_result"
    }
   ],
   "source": [
    "513/56"
   ],
   "metadata": {
    "collapsed": false,
    "ExecuteTime": {
     "end_time": "2024-01-04T08:47:12.029982900Z",
     "start_time": "2024-01-04T08:47:12.027457100Z"
    }
   },
   "id": "bb73369ad90cf949",
   "execution_count": 18
  },
  {
   "cell_type": "markdown",
   "source": [
    "### Booleanos\n",
    "\n",
    "Se representan en python como `bool`, toman valores de `True` o `False`. Otroas tipos pueden representarlos como 1 y 0."
   ],
   "metadata": {
    "collapsed": false
   },
   "id": "28aabfc3e9c35a9d"
  },
  {
   "cell_type": "code",
   "outputs": [
    {
     "data": {
      "text/plain": "bool"
     },
     "execution_count": 19,
     "metadata": {},
     "output_type": "execute_result"
    }
   ],
   "source": [
    "type(True)"
   ],
   "metadata": {
    "collapsed": false,
    "ExecuteTime": {
     "end_time": "2024-01-04T08:48:12.431026700Z",
     "start_time": "2024-01-04T08:48:12.428500900Z"
    }
   },
   "id": "9e978236be44b750",
   "execution_count": 19
  },
  {
   "cell_type": "code",
   "outputs": [
    {
     "name": "stdout",
     "output_type": "stream",
     "text": [
      "True\n",
      "False\n"
     ]
    }
   ],
   "source": [
    "# se pueden convertir 1 y 0 a booleanos\n",
    "\n",
    "print(bool(1))\n",
    "print(bool(0))"
   ],
   "metadata": {
    "collapsed": false,
    "ExecuteTime": {
     "end_time": "2024-01-04T08:49:19.733539400Z",
     "start_time": "2024-01-04T08:49:19.731481300Z"
    }
   },
   "id": "aecafc1bb1fca95b",
   "execution_count": 20
  },
  {
   "cell_type": "markdown",
   "source": [
    "### None\n",
    "\n",
    "`None` indica un valor nulo. Es tipo `NoneType`."
   ],
   "metadata": {
    "collapsed": false
   },
   "id": "becfc8bb43c0c81f"
  },
  {
   "cell_type": "code",
   "outputs": [
    {
     "data": {
      "text/plain": "NoneType"
     },
     "execution_count": 21,
     "metadata": {},
     "output_type": "execute_result"
    }
   ],
   "source": [
    "# se puede asignar a una variable\n",
    "\n",
    "type(None)"
   ],
   "metadata": {
    "collapsed": false,
    "ExecuteTime": {
     "end_time": "2024-01-04T08:50:15.792564800Z",
     "start_time": "2024-01-04T08:50:15.789986Z"
    }
   },
   "id": "dd4140c27f1ae5c2",
   "execution_count": 21
  },
  {
   "cell_type": "code",
   "outputs": [
    {
     "name": "stdout",
     "output_type": "stream",
     "text": [
      "None\n"
     ]
    }
   ],
   "source": [
    "x = None\n",
    "print(x)"
   ],
   "metadata": {
    "collapsed": false,
    "ExecuteTime": {
     "end_time": "2024-01-04T08:50:29.989412700Z",
     "start_time": "2024-01-04T08:50:29.985748800Z"
    }
   },
   "id": "9c6abb58aa1b741e",
   "execution_count": 22
  },
  {
   "cell_type": "markdown",
   "source": [
    "## Condicionales y evaluaciones\n",
    "\n",
    "Las evaluaciones son partes importantes en las condicionales ya que con ellas Python decide si ir a la siguiente instrucción o saltarla"
   ],
   "metadata": {
    "collapsed": false
   },
   "id": "7a3d2999d34c0411"
  },
  {
   "cell_type": "markdown",
   "source": [
    "### `if` condiciones y evaluaciones"
   ],
   "metadata": {
    "collapsed": false
   },
   "id": "3c8911fc42fef10e"
  },
  {
   "cell_type": "code",
   "outputs": [
    {
     "name": "stdout",
     "output_type": "stream",
     "text": [
      "La condición es verdadera\n"
     ]
    }
   ],
   "source": [
    "# todas las condicionales evalúan el resultado de la condición\n",
    "\n",
    "condicion = True\n",
    "if condicion:\n",
    "    print('La condición es verdadera')"
   ],
   "metadata": {
    "collapsed": false,
    "ExecuteTime": {
     "end_time": "2024-01-06T12:06:09.174676100Z",
     "start_time": "2024-01-06T12:06:09.165745500Z"
    }
   },
   "id": "c7f1e626ee1af9a3",
   "execution_count": 1
  },
  {
   "cell_type": "code",
   "outputs": [],
   "source": [
    "# si la condicion es falsa, salta la instrucción\n",
    "\n",
    "condicion = False \n",
    "if condicion:\n",
    "    print('La condición es verdadera')"
   ],
   "metadata": {
    "collapsed": false,
    "ExecuteTime": {
     "end_time": "2024-01-06T12:07:05.444039500Z",
     "start_time": "2024-01-06T12:07:05.439494600Z"
    }
   },
   "id": "a1a9e41e5761a466",
   "execution_count": 2
  },
  {
   "cell_type": "code",
   "outputs": [
    {
     "name": "stdout",
     "output_type": "stream",
     "text": [
      "Tenemos invitados!\n"
     ]
    }
   ],
   "source": [
    "# algunas estructuras de datos se evalúan como falsas si están vacías y verdaderas si tienen elementos\n",
    "\n",
    "alimentos = []\n",
    "if alimentos:\n",
    "    print('Tenemos alimentos!')\n",
    "\n",
    "invitaciones = ['Mateo', 'Tatiana']\n",
    "if invitaciones:\n",
    "    print('Tenemos invitados!')"
   ],
   "metadata": {
    "collapsed": false,
    "ExecuteTime": {
     "end_time": "2024-01-06T12:08:47.471654600Z",
     "start_time": "2024-01-06T12:08:47.466610200Z"
    }
   },
   "id": "eb538b39e62043ec",
   "execution_count": 4
  },
  {
   "cell_type": "code",
   "outputs": [
    {
     "name": "stdout",
     "output_type": "stream",
     "text": [
      "Tenemos padres!\n"
     ]
    }
   ],
   "source": [
    "# los integrales se evalúan como falsos si son 0 y verdaderos si son diferentes de 0 y positivos\n",
    "\n",
    "propiedades = 0\n",
    "if propiedades:\n",
    "    print('Tenemos propiedades!')\n",
    "\n",
    "padres = 2\n",
    "if padres:\n",
    "    print('Tenemos padres!')"
   ],
   "metadata": {
    "collapsed": false,
    "ExecuteTime": {
     "end_time": "2024-01-06T12:10:48.455048400Z",
     "start_time": "2024-01-06T12:10:48.452512900Z"
    }
   },
   "id": "3b37aedae3b29cd1",
   "execution_count": 7
  },
  {
   "cell_type": "code",
   "outputs": [
    {
     "name": "stdout",
     "output_type": "stream",
     "text": [
      "No tenemos propiedades!\n",
      "Tenemos más de un padre!\n"
     ]
    }
   ],
   "source": [
    "# los operadores se pueden usar\n",
    "\n",
    "if propiedades == 0:\n",
    "    print('No tenemos propiedades!')\n",
    "\n",
    "if padres > 1:\n",
    "    print('Tenemos más de un padre!')"
   ],
   "metadata": {
    "collapsed": false,
    "ExecuteTime": {
     "end_time": "2024-01-06T12:12:06.912721700Z",
     "start_time": "2024-01-06T12:12:06.910190800Z"
    }
   },
   "id": "7df7e1d785767bfe",
   "execution_count": 8
  },
  {
   "cell_type": "markdown",
   "source": [
    "### `else` condiciones y evaluaciones\n",
    "\n",
    "Se usa para evaluar una condición que no se cumple en el `if`, una regla general es que se deben mantener a un minimo, podría hacer el código difícil de leer."
   ],
   "metadata": {
    "collapsed": false
   },
   "id": "ae2c8d21d3baa471"
  },
  {
   "cell_type": "code",
   "outputs": [
    {
     "name": "stdout",
     "output_type": "stream",
     "text": [
      "No tenemos propiedades!\n"
     ]
    }
   ],
   "source": [
    "if propiedades:\n",
    "    print('Tenemos propiedades!')\n",
    "else:\n",
    "    print('No tenemos propiedades!')"
   ],
   "metadata": {
    "collapsed": false,
    "ExecuteTime": {
     "end_time": "2024-01-06T12:14:19.237113900Z",
     "start_time": "2024-01-06T12:14:19.232550200Z"
    }
   },
   "id": "1273247c0143f910",
   "execution_count": 9
  },
  {
   "cell_type": "markdown",
   "source": [
    "### `elif` condiciones y evaluaciones\n",
    "\n",
    "Se usa para evaluar una condición que no se cumple en el `if` pero que es diferente a la del `else`. Se pueden usar tantos `elif` como se necesiten."
   ],
   "metadata": {
    "collapsed": false
   },
   "id": "68cdb4ecc2f22286"
  },
  {
   "cell_type": "code",
   "outputs": [
    {
     "name": "stdout",
     "output_type": "stream",
     "text": [
      "No tenemos propiedades, pero tenemos padres!\n"
     ]
    }
   ],
   "source": [
    "if propiedades:\n",
    "    print('Tenemos propiedades!')\n",
    "elif padres:\n",
    "    print('No tenemos propiedades, pero tenemos padres!')"
   ],
   "metadata": {
    "collapsed": false,
    "ExecuteTime": {
     "end_time": "2024-01-06T12:15:58.509799400Z",
     "start_time": "2024-01-06T12:15:58.507710600Z"
    }
   },
   "id": "4db0fbdb64986571",
   "execution_count": 10
  },
  {
   "cell_type": "markdown",
   "source": [
    "### Condicionales negativas\n",
    "\n",
    "Para representar una condición negativa se usa `not`."
   ],
   "metadata": {
    "collapsed": false
   },
   "id": "b3b59a69c5491bbd"
  },
  {
   "cell_type": "code",
   "outputs": [
    {
     "name": "stdout",
     "output_type": "stream",
     "text": [
      "No tenemos nombre!\n"
     ]
    }
   ],
   "source": [
    "nombre = None\n",
    "\n",
    "if not nombre:\n",
    "    print('No tenemos nombre!')"
   ],
   "metadata": {
    "collapsed": false,
    "ExecuteTime": {
     "end_time": "2024-01-06T12:17:48.720567200Z",
     "start_time": "2024-01-06T12:17:48.718061600Z"
    }
   },
   "id": "60eaf4df617c611",
   "execution_count": 11
  },
  {
   "cell_type": "code",
   "outputs": [
    {
     "name": "stdout",
     "output_type": "stream",
     "text": [
      "No tenemos nombre!\n"
     ]
    }
   ],
   "source": [
    "# se puede usar `not` con cualquier condición\n",
    "\n",
    "apellido = None\n",
    "\n",
    "if not nombre:\n",
    "    print('No tenemos nombre!')\n",
    "elif not apellido:\n",
    "    print('No tenemos apellido!')"
   ],
   "metadata": {
    "collapsed": false,
    "ExecuteTime": {
     "end_time": "2024-01-06T12:20:32.980692100Z",
     "start_time": "2024-01-06T12:20:32.977640500Z"
    }
   },
   "id": "66cac053c79e6bd0",
   "execution_count": 13
  },
  {
   "cell_type": "markdown",
   "source": [
    "### Condiciones múltiples con `and`"
   ],
   "metadata": {
    "collapsed": false
   },
   "id": "15a6ded931a980ea"
  },
  {
   "cell_type": "code",
   "outputs": [
    {
     "name": "stdout",
     "output_type": "stream",
     "text": [
      "Tiene hijos y está casado!\n"
     ]
    }
   ],
   "source": [
    "tiene_hijos = True\n",
    "casado      = True\n",
    "\n",
    "if tiene_hijos and casado:\n",
    "    print('Tiene hijos y está casado!')"
   ],
   "metadata": {
    "collapsed": false,
    "ExecuteTime": {
     "end_time": "2024-01-06T12:21:32.635422200Z",
     "start_time": "2024-01-06T12:21:32.631675600Z"
    }
   },
   "id": "ff5a47ae02b6cc0f",
   "execution_count": 14
  },
  {
   "cell_type": "code",
   "outputs": [
    {
     "name": "stdout",
     "output_type": "stream",
     "text": [
      "No le gustan los libros y no está logueado!\n"
     ]
    }
   ],
   "source": [
    "# se puede combinar con not\n",
    "\n",
    "gusta_libros = False\n",
    "logueado     = False\n",
    "\n",
    "if not gusta_libros and not logueado:\n",
    "    print('No le gustan los libros y no está logueado!')"
   ],
   "metadata": {
    "collapsed": false,
    "ExecuteTime": {
     "end_time": "2024-01-06T12:23:02.581504900Z",
     "start_time": "2024-01-06T12:23:02.576941100Z"
    }
   },
   "id": "908147d3114246af",
   "execution_count": 16
  },
  {
   "cell_type": "markdown",
   "source": [
    "## Excepciones en Python\n",
    "\n",
    "### Como pasan las excepciones?\n",
    "\n",
    "Son creadas con una operación inválida."
   ],
   "metadata": {
    "collapsed": false
   },
   "id": "96414c66930e4c19"
  },
  {
   "cell_type": "code",
   "outputs": [
    {
     "ename": "ZeroDivisionError",
     "evalue": "division by zero",
     "output_type": "error",
     "traceback": [
      "\u001B[1;31m---------------------------------------------------------------------------\u001B[0m",
      "\u001B[1;31mZeroDivisionError\u001B[0m                         Traceback (most recent call last)",
      "Cell \u001B[1;32mIn[17], line 3\u001B[0m\n\u001B[0;32m      1\u001B[0m \u001B[38;5;66;03m# excepción de Python\u001B[39;00m\n\u001B[1;32m----> 3\u001B[0m \u001B[38;5;241m14\u001B[39m\u001B[38;5;241m/\u001B[39m\u001B[38;5;241m0\u001B[39m\n",
      "\u001B[1;31mZeroDivisionError\u001B[0m: division by zero"
     ]
    }
   ],
   "source": [
    "# excepción de Python\n",
    "\n",
    "14/0"
   ],
   "metadata": {
    "collapsed": false,
    "ExecuteTime": {
     "end_time": "2024-01-06T16:31:47.400789100Z",
     "start_time": "2024-01-06T16:31:46.858305200Z"
    }
   },
   "id": "ea04c0fe4054c671",
   "execution_count": 17
  },
  {
   "cell_type": "code",
   "outputs": [
    {
     "ename": "RuntimeError",
     "evalue": "Esto es un problema!",
     "output_type": "error",
     "traceback": [
      "\u001B[1;31m---------------------------------------------------------------------------\u001B[0m",
      "\u001B[1;31mRuntimeError\u001B[0m                              Traceback (most recent call last)",
      "Cell \u001B[1;32mIn[18], line 3\u001B[0m\n\u001B[0;32m      1\u001B[0m \u001B[38;5;66;03m# generar una excepción con tu propio código \u001B[39;00m\n\u001B[1;32m----> 3\u001B[0m \u001B[38;5;28;01mraise\u001B[39;00m \u001B[38;5;167;01mRuntimeError\u001B[39;00m(\u001B[38;5;124m'\u001B[39m\u001B[38;5;124mEsto es un problema!\u001B[39m\u001B[38;5;124m'\u001B[39m)\n",
      "\u001B[1;31mRuntimeError\u001B[0m: Esto es un problema!"
     ]
    }
   ],
   "source": [
    "# generar una excepción con tu propio código \n",
    "\n",
    "raise RuntimeError('Esto es un problema!')"
   ],
   "metadata": {
    "collapsed": false,
    "ExecuteTime": {
     "end_time": "2024-01-06T16:33:45.080251100Z",
     "start_time": "2024-01-06T16:33:45.070928Z"
    }
   },
   "id": "283bd160e2ac9f9f",
   "execution_count": 18
  },
  {
   "cell_type": "markdown",
   "source": [
    "### Atrapando excepciones\n",
    "\n",
    "Se atrapan las excepciones con `try` y `except`. Tratar de solo atrapar las excepciones que se necesiten."
   ],
   "metadata": {
    "collapsed": false
   },
   "id": "ead8ae76d4da232"
  },
  {
   "cell_type": "code",
   "outputs": [
    {
     "name": "stdout",
     "output_type": "stream",
     "text": [
      "7.0\n"
     ]
    }
   ],
   "source": [
    "try:\n",
    "    # alguna operación que causa error\n",
    "    resultado = 14/0\n",
    "except:\n",
    "    # otra operación para hacer en cambio de la primera\n",
    "    resultado = 14 / 2\n",
    "    \n",
    "print(resultado)\n"
   ],
   "metadata": {
    "collapsed": false,
    "ExecuteTime": {
     "end_time": "2024-01-08T05:07:35.993451300Z",
     "start_time": "2024-01-08T05:07:35.940579700Z"
    }
   },
   "id": "274a0915aa32ec14",
   "execution_count": 1
  },
  {
   "cell_type": "markdown",
   "source": [
    "### Atrapando excepciones específicas"
   ],
   "metadata": {
    "collapsed": false
   },
   "id": "be80b22d20d1c5e7"
  },
  {
   "cell_type": "code",
   "outputs": [
    {
     "name": "stdout",
     "output_type": "stream",
     "text": [
      "7.0\n"
     ]
    }
   ],
   "source": [
    "try:\n",
    "    # alguna operacion que causa error\n",
    "    resultado = 14/0\n",
    "    resultado = resultado + '100'\n",
    "except (ZeroDivisionError, TypeError):  # Aquí se especifican los tipos de error que queremos tener en cuenta para el except\n",
    "    # otra operación para hacer, en cambio, de la primera\n",
    "    resultado = 14 / 2\n",
    "    \n",
    "print(resultado)"
   ],
   "metadata": {
    "collapsed": false,
    "ExecuteTime": {
     "end_time": "2024-01-08T05:13:11.615735200Z",
     "start_time": "2024-01-08T05:13:11.609553600Z"
    }
   },
   "id": "eba0e6aa044391b6",
   "execution_count": 2
  },
  {
   "cell_type": "code",
   "outputs": [
    {
     "name": "stdout",
     "output_type": "stream",
     "text": [
      "obtenemos un error ---> division by zero\n",
      "7.0\n"
     ]
    }
   ],
   "source": [
    "# asignar la excepción a una variable\n",
    "try:\n",
    "    # operación que causa error\n",
    "    resultado = 14/0\n",
    "except ZeroDivisionError as error:\n",
    "    print(f'obtenemos un error ---> {error}')\n",
    "    resultado = 14 / 2\n",
    "    \n",
    "print(resultado)"
   ],
   "metadata": {
    "collapsed": false,
    "ExecuteTime": {
     "end_time": "2024-01-08T05:14:34.210509800Z",
     "start_time": "2024-01-08T05:14:34.206668Z"
    }
   },
   "id": "77be835260933d4f",
   "execution_count": 3
  },
  {
   "cell_type": "markdown",
   "source": [
    "## Estructuras de datos\n",
    "\n",
    "### Listas\n",
    "\n",
    "Son una colección de items que se pueden añadir indefinidamente."
   ],
   "metadata": {
    "collapsed": false
   },
   "id": "166e375e2bc95cbc"
  },
  {
   "cell_type": "code",
   "outputs": [
    {
     "data": {
      "text/plain": "[1, 2, 3, 4, 5]"
     },
     "execution_count": 4,
     "metadata": {},
     "output_type": "execute_result"
    }
   ],
   "source": [
    "# están definidas por []\n",
    "\n",
    "[1, 2, 3, 4, 5]"
   ],
   "metadata": {
    "collapsed": false,
    "ExecuteTime": {
     "end_time": "2024-01-08T05:20:50.728705700Z",
     "start_time": "2024-01-08T05:20:50.723642500Z"
    }
   },
   "id": "9d2b3c72b0ef6e50",
   "execution_count": 4
  },
  {
   "cell_type": "code",
   "outputs": [
    {
     "data": {
      "text/plain": "[1, 'dos', False, 12.5]"
     },
     "execution_count": 5,
     "metadata": {},
     "output_type": "execute_result"
    }
   ],
   "source": [
    "# las listas pueden contener diferentes tipos de datos\n",
    "\n",
    "[1, 'dos', False, 12.5]"
   ],
   "metadata": {
    "collapsed": false,
    "ExecuteTime": {
     "end_time": "2024-01-08T05:21:25.100689600Z",
     "start_time": "2024-01-08T05:21:25.096418500Z"
    }
   },
   "id": "27964cba5725b0b9",
   "execution_count": 5
  },
  {
   "cell_type": "code",
   "outputs": [
    {
     "data": {
      "text/plain": "4"
     },
     "execution_count": 6,
     "metadata": {},
     "output_type": "execute_result"
    }
   ],
   "source": [
    "# se pueden contar los items con len()\n",
    "\n",
    "len([3, 4, 'carro', 'rojo'])"
   ],
   "metadata": {
    "collapsed": false,
    "ExecuteTime": {
     "end_time": "2024-01-08T05:22:20.005800400Z",
     "start_time": "2024-01-08T05:22:20.001401400Z"
    }
   },
   "id": "922a75be5fc95991",
   "execution_count": 6
  },
  {
   "cell_type": "code",
   "outputs": [
    {
     "data": {
      "text/plain": "'cebolla'"
     },
     "execution_count": 7,
     "metadata": {},
     "output_type": "execute_result"
    }
   ],
   "source": [
    "# Cada item tiene una posición llamada índice. Empieza desde el cero\n",
    "\n",
    "items = ['cebolla', 'arroz', 'sal']\n",
    "\n",
    "# se obtiene un item con su indice\n",
    "\n",
    "items[0]"
   ],
   "metadata": {
    "collapsed": false,
    "ExecuteTime": {
     "end_time": "2024-01-08T05:23:35.868918700Z",
     "start_time": "2024-01-08T05:23:35.864262500Z"
    }
   },
   "id": "34942de4ca10a527",
   "execution_count": 7
  },
  {
   "cell_type": "code",
   "outputs": [
    {
     "data": {
      "text/plain": "'sal'"
     },
     "execution_count": 8,
     "metadata": {},
     "output_type": "execute_result"
    }
   ],
   "source": [
    "# Se puede obtener el último item con -1\n",
    "\n",
    "items[-1]"
   ],
   "metadata": {
    "collapsed": false,
    "ExecuteTime": {
     "end_time": "2024-01-08T05:24:54.087869100Z",
     "start_time": "2024-01-08T05:24:54.083091300Z"
    }
   },
   "id": "62cc3a2f17920f8a",
   "execution_count": 8
  },
  {
   "cell_type": "code",
   "outputs": [
    {
     "data": {
      "text/plain": "'arroz'"
     },
     "execution_count": 9,
     "metadata": {},
     "output_type": "execute_result"
    }
   ],
   "source": [
    "# También se pueden usar índices negativos para contar hacia atrás\n",
    "\n",
    "items[-2]"
   ],
   "metadata": {
    "collapsed": false,
    "ExecuteTime": {
     "end_time": "2024-01-08T05:26:05.519569900Z",
     "start_time": "2024-01-08T05:26:05.512335Z"
    }
   },
   "id": "7b223b6b11dbf806",
   "execution_count": 9
  },
  {
   "cell_type": "markdown",
   "source": [
    "### Creando una lista"
   ],
   "metadata": {
    "collapsed": false
   },
   "id": "5bf988a84ae63fcc"
  },
  {
   "cell_type": "code",
   "outputs": [
    {
     "data": {
      "text/plain": "[]"
     },
     "execution_count": 10,
     "metadata": {},
     "output_type": "execute_result"
    }
   ],
   "source": [
    "# Se puede crear una lista vacía\n",
    "\n",
    "items = []\n",
    "items"
   ],
   "metadata": {
    "collapsed": false,
    "ExecuteTime": {
     "end_time": "2024-01-08T05:27:32.012416100Z",
     "start_time": "2024-01-08T05:27:32.006763500Z"
    }
   },
   "id": "c5d71488469f7f2a",
   "execution_count": 10
  },
  {
   "cell_type": "code",
   "outputs": [
    {
     "data": {
      "text/plain": "['rojo', 'azul', 'verde']"
     },
     "execution_count": 11,
     "metadata": {},
     "output_type": "execute_result"
    }
   ],
   "source": [
    "# Se puede crear una lista con items\n",
    "\n",
    "colores = ['rojo', 'azul', 'verde']\n",
    "colores"
   ],
   "metadata": {
    "collapsed": false,
    "ExecuteTime": {
     "end_time": "2024-01-08T05:28:16.625449900Z",
     "start_time": "2024-01-08T05:28:16.619675100Z"
    }
   },
   "id": "1def40267f71e366",
   "execution_count": 11
  },
  {
   "cell_type": "markdown",
   "source": [
    "### Iterando sobre las listas"
   ],
   "metadata": {
    "collapsed": false
   },
   "id": "b3642f3cfd98dfe7"
  },
  {
   "cell_type": "code",
   "outputs": [
    {
     "name": "stdout",
     "output_type": "stream",
     "text": [
      "rojo\n",
      "azul\n",
      "verde\n"
     ]
    }
   ],
   "source": [
    "for color in colores:\n",
    "    print(color)"
   ],
   "metadata": {
    "collapsed": false,
    "ExecuteTime": {
     "end_time": "2024-01-08T05:28:50.893007Z",
     "start_time": "2024-01-08T05:28:50.888024200Z"
    }
   },
   "id": "a6ca6d3852cc17d3",
   "execution_count": 12
  },
  {
   "cell_type": "code",
   "outputs": [
    {
     "name": "stdout",
     "output_type": "stream",
     "text": [
      "rojo\n",
      "amarillo\n"
     ]
    }
   ],
   "source": [
    "# sería equivalente a\n",
    "\n",
    "for color in ['rojo', 'amarillo']:\n",
    "    print(color)"
   ],
   "metadata": {
    "collapsed": false,
    "ExecuteTime": {
     "end_time": "2024-01-08T05:29:39.895070100Z",
     "start_time": "2024-01-08T05:29:39.890486100Z"
    }
   },
   "id": "eaa5df04068266ba",
   "execution_count": 13
  },
  {
   "cell_type": "markdown",
   "source": [
    "### Comprensión de listas\n",
    "\n",
    "Una forma más avanzada de iterar sobre una lista y una condición."
   ],
   "metadata": {
    "collapsed": false
   },
   "id": "9ffa3211992d4fa9"
  },
  {
   "cell_type": "code",
   "outputs": [
    {
     "data": {
      "text/plain": "[2, 3, 4, 5, 3, 4]"
     },
     "execution_count": 15,
     "metadata": {},
     "output_type": "execute_result"
    }
   ],
   "source": [
    "numeros   = [2, 3, 4, 12, 5, 3, 4]\n",
    "\n",
    "num_bajos = [n for n in numeros if n < 6] # si el numero es menor a 6 lo agrega a la nueva lista\n",
    "num_bajos"
   ],
   "metadata": {
    "collapsed": false,
    "ExecuteTime": {
     "end_time": "2024-01-08T05:32:21.750232400Z",
     "start_time": "2024-01-08T05:32:21.744295400Z"
    }
   },
   "id": "ca2528b01f7fce25",
   "execution_count": 15
  },
  {
   "cell_type": "markdown",
   "source": [
    "### Diccionarios\n",
    "\n",
    "Los diccionarios se usan para mapear claves a valores. "
   ],
   "metadata": {
    "collapsed": false
   },
   "id": "a2926ff7077fd3b"
  },
  {
   "cell_type": "code",
   "outputs": [
    {
     "data": {
      "text/plain": "{}"
     },
     "execution_count": 16,
     "metadata": {},
     "output_type": "execute_result"
    }
   ],
   "source": [
    "# se definen con {}\n",
    "\n",
    "{}"
   ],
   "metadata": {
    "collapsed": false,
    "ExecuteTime": {
     "end_time": "2024-01-08T05:33:35.301976700Z",
     "start_time": "2024-01-08T05:33:35.295627400Z"
    }
   },
   "id": "591d9955e78eaf64",
   "execution_count": 16
  },
  {
   "cell_type": "code",
   "outputs": [
    {
     "data": {
      "text/plain": "{'clave': 'valor'}"
     },
     "execution_count": 17,
     "metadata": {},
     "output_type": "execute_result"
    }
   ],
   "source": [
    "# siempre se mapean claves a valores\n",
    "\n",
    "{'clave': 'valor'}"
   ],
   "metadata": {
    "collapsed": false,
    "ExecuteTime": {
     "end_time": "2024-01-08T05:34:47.601484400Z",
     "start_time": "2024-01-08T05:34:47.596649400Z"
    }
   },
   "id": "5840dd4cc331af55",
   "execution_count": 17
  },
  {
   "cell_type": "code",
   "outputs": [
    {
     "data": {
      "text/plain": "{'clave': True}"
     },
     "execution_count": 18,
     "metadata": {},
     "output_type": "execute_result"
    }
   ],
   "source": [
    "# los valores pueden ser otros tipos\n",
    "\n",
    "{'clave': True}"
   ],
   "metadata": {
    "collapsed": false,
    "ExecuteTime": {
     "end_time": "2024-01-08T05:35:35.227762900Z",
     "start_time": "2024-01-08T05:35:35.221863100Z"
    }
   },
   "id": "e345e079f572a3cc",
   "execution_count": 18
  },
  {
   "cell_type": "code",
   "outputs": [
    {
     "data": {
      "text/plain": "{'nombre': 'Tatiana'}"
     },
     "execution_count": 19,
     "metadata": {},
     "output_type": "execute_result"
    }
   ],
   "source": [
    "# La clave tiene que ser única, no pueden haber duplicados\n",
    "\n",
    "{'nombre': 'Mateo', 'nombre': 'Tatiana'}"
   ],
   "metadata": {
    "collapsed": false,
    "ExecuteTime": {
     "end_time": "2024-01-08T05:36:12.389812700Z",
     "start_time": "2024-01-08T05:36:12.384786900Z"
    }
   },
   "id": "6dff9f8081ab7ecd",
   "execution_count": 19
  },
  {
   "cell_type": "code",
   "outputs": [
    {
     "data": {
      "text/plain": "{'items': ['arroz', 'sal', 'cebolla']}"
     },
     "execution_count": 20,
     "metadata": {},
     "output_type": "execute_result"
    }
   ],
   "source": [
    "# los valores pueden ser otro diccionario o listas\n",
    "\n",
    "{'items': ['arroz', 'sal', 'cebolla']}"
   ],
   "metadata": {
    "collapsed": false,
    "ExecuteTime": {
     "end_time": "2024-01-08T05:37:06.109473900Z",
     "start_time": "2024-01-08T05:37:06.084646400Z"
    }
   },
   "id": "a4c5bddded991730",
   "execution_count": 20
  },
  {
   "cell_type": "code",
   "outputs": [
    {
     "ename": "TypeError",
     "evalue": "unhashable type: 'list'",
     "output_type": "error",
     "traceback": [
      "\u001B[1;31m---------------------------------------------------------------------------\u001B[0m",
      "\u001B[1;31mTypeError\u001B[0m                                 Traceback (most recent call last)",
      "Cell \u001B[1;32mIn[21], line 3\u001B[0m\n\u001B[0;32m      1\u001B[0m \u001B[38;5;66;03m# no se puede tener una lista como clave\u001B[39;00m\n\u001B[1;32m----> 3\u001B[0m {[\u001B[38;5;124m'\u001B[39m\u001B[38;5;124mnombre\u001B[39m\u001B[38;5;124m'\u001B[39m]: \u001B[38;5;124m'\u001B[39m\u001B[38;5;124mMateo\u001B[39m\u001B[38;5;124m'\u001B[39m}\n",
      "\u001B[1;31mTypeError\u001B[0m: unhashable type: 'list'"
     ]
    }
   ],
   "source": [
    "# no se puede tener una lista como clave\n",
    "\n",
    "{['nombre']: 'Mateo'}"
   ],
   "metadata": {
    "collapsed": false,
    "ExecuteTime": {
     "end_time": "2024-01-08T05:37:40.080442300Z",
     "start_time": "2024-01-08T05:37:39.527892900Z"
    }
   },
   "id": "556d62254b1e204f",
   "execution_count": 21
  },
  {
   "cell_type": "markdown",
   "source": [
    "### Creando un diccionario\n",
    "\n"
   ],
   "metadata": {
    "collapsed": false
   },
   "id": "4c4f03d7649e612e"
  },
  {
   "cell_type": "code",
   "outputs": [
    {
     "data": {
      "text/plain": "{}"
     },
     "execution_count": 22,
     "metadata": {},
     "output_type": "execute_result"
    }
   ],
   "source": [
    "# con los paréntesis curveados\n",
    "\n",
    "informacion = {}\n",
    "informacion"
   ],
   "metadata": {
    "collapsed": false,
    "ExecuteTime": {
     "end_time": "2024-01-08T05:41:58.316214200Z",
     "start_time": "2024-01-08T05:41:58.306857500Z"
    }
   },
   "id": "90a3fe59aba1e7fc",
   "execution_count": 22
  },
  {
   "cell_type": "code",
   "outputs": [
    {
     "data": {
      "text/plain": "{'nombre': 'Mateo', 'Apellido': 'Vega'}"
     },
     "execution_count": 24,
     "metadata": {},
     "output_type": "execute_result"
    }
   ],
   "source": [
    "# con los paréntesis curveados y valores\n",
    "\n",
    "informacion = {'nombre': 'Mateo', 'Apellido': 'Vega'}\n",
    "informacion"
   ],
   "metadata": {
    "collapsed": false,
    "ExecuteTime": {
     "end_time": "2024-01-08T05:42:37.941705300Z",
     "start_time": "2024-01-08T05:42:37.934239500Z"
    }
   },
   "id": "88ae70ece149a90a",
   "execution_count": 24
  },
  {
   "cell_type": "code",
   "outputs": [
    {
     "data": {
      "text/plain": "{}"
     },
     "execution_count": 25,
     "metadata": {},
     "output_type": "execute_result"
    }
   ],
   "source": [
    "# con el constructor dict()\n",
    "\n",
    "informacion = dict()\n",
    "informacion"
   ],
   "metadata": {
    "collapsed": false,
    "ExecuteTime": {
     "end_time": "2024-01-08T05:42:56.680633100Z",
     "start_time": "2024-01-08T05:42:56.673769500Z"
    }
   },
   "id": "6ad64777e9ebea16",
   "execution_count": 25
  },
  {
   "cell_type": "code",
   "outputs": [
    {
     "data": {
      "text/plain": "{'nombre': 'Mateo', 'apellido': 'Vega'}"
     },
     "execution_count": 26,
     "metadata": {},
     "output_type": "execute_result"
    }
   ],
   "source": [
    "# con el constructor dict() y valores\n",
    "\n",
    "datos = [('nombre', 'Mateo'), ('apellido', 'Vega')]\n",
    "dict(datos)"
   ],
   "metadata": {
    "collapsed": false,
    "ExecuteTime": {
     "end_time": "2024-01-08T05:43:40.619389500Z",
     "start_time": "2024-01-08T05:43:40.605485900Z"
    }
   },
   "id": "a888c790d18b7f62",
   "execution_count": 26
  },
  {
   "cell_type": "code",
   "outputs": [
    {
     "data": {
      "text/plain": "{'nombre': 'Mateo', 'apellido': 'Vega'}"
     },
     "execution_count": 27,
     "metadata": {},
     "output_type": "execute_result"
    }
   ],
   "source": [
    "# con el constructor dict() y argumentos\n",
    "\n",
    "dict(nombre='Mateo', apellido='Vega')"
   ],
   "metadata": {
    "collapsed": false,
    "ExecuteTime": {
     "end_time": "2024-01-08T05:44:09.328728300Z",
     "start_time": "2024-01-08T05:44:09.321488100Z"
    }
   },
   "id": "4c73a9da7dc18be2",
   "execution_count": 27
  },
  {
   "cell_type": "markdown",
   "source": [
    "### Iterando sobre los diccionarios\n",
    "\n",
    "Iterar se puede hacer de varias formas en un diccionario:\n",
    "\n",
    "1. Iterar sobre las claves\n",
    "2. Iterar sobre los valores\n",
    "3. Iterar sobre ambos"
   ],
   "metadata": {
    "collapsed": false
   },
   "id": "7cc57142aa27f014"
  },
  {
   "cell_type": "code",
   "outputs": [],
   "source": [
    "informacion = {\n",
    "    'nombre': 'Mateo',\n",
    "    'apellido': 'Vega',\n",
    "    'edad': 26,\n",
    "    'altura': 1.81,\n",
    "}"
   ],
   "metadata": {
    "collapsed": false,
    "ExecuteTime": {
     "end_time": "2024-01-08T05:46:20.131718100Z",
     "start_time": "2024-01-08T05:46:20.127301300Z"
    }
   },
   "id": "55b426bdc1e694b8",
   "execution_count": 28
  },
  {
   "cell_type": "code",
   "outputs": [
    {
     "name": "stdout",
     "output_type": "stream",
     "text": [
      "nombre\n",
      "apellido\n",
      "edad\n",
      "altura\n"
     ]
    }
   ],
   "source": [
    "# Obtener solo las claves por default\n",
    "\n",
    "for clave in informacion:\n",
    "    print(clave)"
   ],
   "metadata": {
    "collapsed": false,
    "ExecuteTime": {
     "end_time": "2024-01-08T05:47:05.478092900Z",
     "start_time": "2024-01-08T05:47:05.473426200Z"
    }
   },
   "id": "f9bf18885abe8c06",
   "execution_count": 29
  },
  {
   "cell_type": "code",
   "outputs": [
    {
     "name": "stdout",
     "output_type": "stream",
     "text": [
      "nombre\n",
      "apellido\n",
      "edad\n",
      "altura\n"
     ]
    }
   ],
   "source": [
    "# Obtener las claves con .keys()\n",
    "\n",
    "for clave in informacion.keys():\n",
    "    print(clave)"
   ],
   "metadata": {
    "collapsed": false,
    "ExecuteTime": {
     "end_time": "2024-01-08T05:47:30.907912500Z",
     "start_time": "2024-01-08T05:47:30.896763500Z"
    }
   },
   "id": "ba8de88d42361bea",
   "execution_count": 30
  },
  {
   "cell_type": "code",
   "outputs": [
    {
     "name": "stdout",
     "output_type": "stream",
     "text": [
      "Mateo\n",
      "Vega\n",
      "26\n",
      "1.81\n"
     ]
    }
   ],
   "source": [
    "# obtener los valores \n",
    "\n",
    "for valor in informacion.values():\n",
    "    print(valor)"
   ],
   "metadata": {
    "collapsed": false,
    "ExecuteTime": {
     "end_time": "2024-01-08T05:48:46.475095100Z",
     "start_time": "2024-01-08T05:48:46.469584200Z"
    }
   },
   "id": "2bedf203573defce",
   "execution_count": 31
  },
  {
   "cell_type": "code",
   "outputs": [
    {
     "name": "stdout",
     "output_type": "stream",
     "text": [
      "nombre ---> Mateo\n",
      "apellido ---> Vega\n",
      "edad ---> 26\n",
      "altura ---> 1.81\n"
     ]
    },
    {
     "data": {
      "text/plain": "dict_items([('nombre', 'Mateo'), ('apellido', 'Vega'), ('edad', 26), ('altura', 1.81)])"
     },
     "execution_count": 35,
     "metadata": {},
     "output_type": "execute_result"
    }
   ],
   "source": [
    "# obtener ambos\n",
    "\n",
    "for clave, valor in informacion.items():\n",
    "    print(f'{clave} ---> {valor}')\n",
    "    \n",
    "informacion.items()"
   ],
   "metadata": {
    "collapsed": false,
    "ExecuteTime": {
     "end_time": "2024-01-08T05:50:55.769983900Z",
     "start_time": "2024-01-08T05:50:55.764019700Z"
    }
   },
   "id": "2ffd08e38654a747",
   "execution_count": 35
  },
  {
   "cell_type": "markdown",
   "source": [
    "### Tuplas\n",
    "\n",
    "Son inmutables, no se pueden modificar después de ser creadas. Se usan para valores que no se deben cambiar."
   ],
   "metadata": {
    "collapsed": false
   },
   "id": "45701779059a9ccc"
  },
  {
   "cell_type": "code",
   "outputs": [
    {
     "name": "stdout",
     "output_type": "stream",
     "text": [
      "El primer item en la tupla es: 0\n",
      "tercera\n",
      "primera\n",
      "segunda\n",
      "tercera\n"
     ]
    }
   ],
   "source": [
    "items = ('primera', 'segunda', 'tercera')\n",
    "print('El primer item en la tupla es: %s' % items.index('primera'))\n",
    "print(items[-1])\n",
    "for item in items: \n",
    "    print(item)"
   ],
   "metadata": {
    "collapsed": false,
    "ExecuteTime": {
     "end_time": "2024-01-08T05:53:24.795955300Z",
     "start_time": "2024-01-08T05:53:24.790346700Z"
    }
   },
   "id": "13988bdc0eaa9863",
   "execution_count": 36
  },
  {
   "cell_type": "code",
   "outputs": [
    {
     "name": "stdout",
     "output_type": "stream",
     "text": [
      "count\n",
      "index\n"
     ]
    }
   ],
   "source": [
    "# ver qué métodos tiene una tupla\n",
    "\n",
    "for metodo in dir(tuple()):\n",
    "    if metodo.startswith('__'):\n",
    "        continue\n",
    "    print(metodo)"
   ],
   "metadata": {
    "collapsed": false,
    "ExecuteTime": {
     "end_time": "2024-01-08T05:55:55.889569Z",
     "start_time": "2024-01-08T05:55:55.883439500Z"
    }
   },
   "id": "47a79027ce562669",
   "execution_count": 37
  },
  {
   "cell_type": "markdown",
   "source": [
    "### Conjuntos\n",
    "\n",
    "Son como listas, se ven como diccionarios, pero nos permiten quedarnos con valores únicos."
   ],
   "metadata": {
    "collapsed": false
   },
   "id": "2a45210dd39ab7b"
  },
  {
   "cell_type": "code",
   "outputs": [
    {
     "data": {
      "text/plain": "{'uno'}"
     },
     "execution_count": 39,
     "metadata": {},
     "output_type": "execute_result"
    }
   ],
   "source": [
    "# crear un conjunto vacio\n",
    "\n",
    "unique = set()\n",
    "\n",
    "# agregar items \n",
    "\n",
    "unique.add('uno')\n",
    "unique"
   ],
   "metadata": {
    "collapsed": false,
    "ExecuteTime": {
     "end_time": "2024-01-08T05:58:05.202456600Z",
     "start_time": "2024-01-08T05:58:05.195280200Z"
    }
   },
   "id": "a1fd6257f6223766",
   "execution_count": 39
  },
  {
   "cell_type": "code",
   "outputs": [
    {
     "data": {
      "text/plain": "{'dos', 'uno'}"
     },
     "execution_count": 41,
     "metadata": {},
     "output_type": "execute_result"
    }
   ],
   "source": [
    "# agregar mas valores repetidos, solo se queda con uno\n",
    "\n",
    "unique.add('uno')\n",
    "unique.add('uno')\n",
    "unique.add('uno')\n",
    "unique.add('dos')\n",
    "unique"
   ],
   "metadata": {
    "collapsed": false,
    "ExecuteTime": {
     "end_time": "2024-01-08T05:58:39.814324900Z",
     "start_time": "2024-01-08T05:58:39.806796200Z"
    }
   },
   "id": "bf1b11b72ed70e3f",
   "execution_count": 41
  },
  {
   "cell_type": "code",
   "outputs": [
    {
     "data": {
      "text/plain": "set()"
     },
     "execution_count": 43,
     "metadata": {},
     "output_type": "execute_result"
    }
   ],
   "source": [
    "# se puede usar pop() para sacar un valor\n",
    "\n",
    "unique.pop()\n",
    "unique"
   ],
   "metadata": {
    "collapsed": false,
    "ExecuteTime": {
     "end_time": "2024-01-08T05:59:22.643100Z",
     "start_time": "2024-01-08T05:59:22.636249900Z"
    }
   },
   "id": "847d3e24f6b545f8",
   "execution_count": 43
  },
  {
   "cell_type": "markdown",
   "source": [
    "## Agregando y extrayendo valores\n",
    "\n",
    "### Agregando valores a listas"
   ],
   "metadata": {
    "collapsed": false
   },
   "id": "bf3403e138023817"
  },
  {
   "cell_type": "code",
   "outputs": [
    {
     "data": {
      "text/plain": "[]"
     },
     "execution_count": 47,
     "metadata": {},
     "output_type": "execute_result"
    }
   ],
   "source": [
    "# definimos una lista vacia de frutas\n",
    "\n",
    "frutas = []\n",
    "frutas"
   ],
   "metadata": {
    "collapsed": false,
    "ExecuteTime": {
     "end_time": "2024-01-08T06:08:29.661098100Z",
     "start_time": "2024-01-08T06:08:29.658943300Z"
    }
   },
   "id": "c39a40dd170d7fee",
   "execution_count": 47
  },
  {
   "cell_type": "code",
   "outputs": [
    {
     "data": {
      "text/plain": "['manzana', 'naranja']"
     },
     "execution_count": 48,
     "metadata": {},
     "output_type": "execute_result"
    }
   ],
   "source": [
    "# con append los items se van al final de la lista\n",
    "\n",
    "frutas.append('manzana')\n",
    "frutas.append('naranja')\n",
    "frutas"
   ],
   "metadata": {
    "collapsed": false,
    "ExecuteTime": {
     "end_time": "2024-01-08T06:08:31.308513400Z",
     "start_time": "2024-01-08T06:08:31.298263700Z"
    }
   },
   "id": "e76105c5ff061be5",
   "execution_count": 48
  },
  {
   "cell_type": "code",
   "outputs": [
    {
     "data": {
      "text/plain": "['melon', 'manzana', 'naranja']"
     },
     "execution_count": 49,
     "metadata": {},
     "output_type": "execute_result"
    }
   ],
   "source": [
    "# con insert se puede agregar un item en una posición específica\n",
    "\n",
    "frutas.insert(0, 'melon') # el número de índice es obligatorio\n",
    "frutas"
   ],
   "metadata": {
    "collapsed": false,
    "ExecuteTime": {
     "end_time": "2024-01-08T06:09:04.467260800Z",
     "start_time": "2024-01-08T06:09:04.457125400Z"
    }
   },
   "id": "ec2a42139230423e",
   "execution_count": 49
  },
  {
   "cell_type": "code",
   "outputs": [
    {
     "data": {
      "text/plain": "['melon', 'manzana', 'naranja', 'cebolla', 'tomate']"
     },
     "execution_count": 50,
     "metadata": {},
     "output_type": "execute_result"
    }
   ],
   "source": [
    "# se puede agregar una lista a otra\n",
    "\n",
    "vegetales = ['cebolla', 'tomate']\n",
    "frutas + vegetales"
   ],
   "metadata": {
    "collapsed": false,
    "ExecuteTime": {
     "end_time": "2024-01-08T06:10:26.683311400Z",
     "start_time": "2024-01-08T06:10:26.675878Z"
    }
   },
   "id": "c66a4c99c551f2b3",
   "execution_count": 50
  },
  {
   "cell_type": "code",
   "outputs": [
    {
     "data": {
      "text/plain": "['melon', 'manzana', 'naranja', 'cebolla', 'tomate', ['arroz', 'sal']]"
     },
     "execution_count": 51,
     "metadata": {},
     "output_type": "execute_result"
    }
   ],
   "source": [
    "# append una lista a otra lista\n",
    "\n",
    "compra = frutas + vegetales\n",
    "compra.append(['arroz', 'sal'])\n",
    "compra"
   ],
   "metadata": {
    "collapsed": false,
    "ExecuteTime": {
     "end_time": "2024-01-08T06:11:09.546476800Z",
     "start_time": "2024-01-08T06:11:09.539204400Z"
    }
   },
   "id": "3c09f8f0c46a7bb7",
   "execution_count": 51
  },
  {
   "cell_type": "code",
   "outputs": [
    {
     "data": {
      "text/plain": "['melon', 'manzana', 'naranja', 'cebolla', 'tomate', 'arroz', 'sal']"
     },
     "execution_count": 52,
     "metadata": {},
     "output_type": "execute_result"
    }
   ],
   "source": [
    "# extend una lista a otra lista\n",
    "\n",
    "compra = frutas + vegetales\n",
    "compra.extend(['arroz', 'sal'])\n",
    "compra"
   ],
   "metadata": {
    "collapsed": false,
    "ExecuteTime": {
     "end_time": "2024-01-08T06:11:36.272755400Z",
     "start_time": "2024-01-08T06:11:36.263995200Z"
    }
   },
   "id": "6a433045dd3d0738",
   "execution_count": 52
  },
  {
   "cell_type": "markdown",
   "source": [
    "Con extend agregamos los valores, con append agregamos la lista como un valor.\n",
    "\n",
    "### Extrayendo datos de una lista\n",
    "\n"
   ],
   "metadata": {
    "collapsed": false
   },
   "id": "518f0b09b9568b6"
  },
  {
   "cell_type": "code",
   "outputs": [
    {
     "data": {
      "text/plain": "'rojo'"
     },
     "execution_count": 53,
     "metadata": {},
     "output_type": "execute_result"
    }
   ],
   "source": [
    "colores = ['rojo', 'verde', 'azul', 'morado']\n",
    "\n",
    "# con indice\n",
    "\n",
    "colores[0]"
   ],
   "metadata": {
    "collapsed": false,
    "ExecuteTime": {
     "end_time": "2024-01-08T06:13:49.239155200Z",
     "start_time": "2024-01-08T06:13:49.226625100Z"
    }
   },
   "id": "678408cb1821eda7",
   "execution_count": 53
  },
  {
   "cell_type": "code",
   "outputs": [
    {
     "data": {
      "text/plain": "['rojo', 'verde', 'azul']"
     },
     "execution_count": 54,
     "metadata": {},
     "output_type": "execute_result"
    }
   ],
   "source": [
    "# slicing para los primeros tres items\n",
    "\n",
    "colores[:3]"
   ],
   "metadata": {
    "collapsed": false,
    "ExecuteTime": {
     "end_time": "2024-01-08T06:14:07.678793500Z",
     "start_time": "2024-01-08T06:14:07.670433500Z"
    }
   },
   "id": "199037d59222d27c",
   "execution_count": 54
  },
  {
   "cell_type": "code",
   "outputs": [
    {
     "data": {
      "text/plain": "['verde', 'azul', 'morado']"
     },
     "execution_count": 55,
     "metadata": {},
     "output_type": "execute_result"
    }
   ],
   "source": [
    "# slicing para los últimos tres items\n",
    "\n",
    "colores[-3:]"
   ],
   "metadata": {
    "collapsed": false,
    "ExecuteTime": {
     "end_time": "2024-01-08T06:14:53.393574700Z",
     "start_time": "2024-01-08T06:14:53.382476300Z"
    }
   },
   "id": "3890fadc8d46fd29",
   "execution_count": 55
  },
  {
   "cell_type": "markdown",
   "source": [],
   "metadata": {
    "collapsed": false
   },
   "id": "f654d0647f63e27d"
  },
  {
   "cell_type": "code",
   "outputs": [
    {
     "data": {
      "text/plain": "['verde', 'azul']"
     },
     "execution_count": 56,
     "metadata": {},
     "output_type": "execute_result"
    }
   ],
   "source": [
    "# slice en un rango\n",
    "\n",
    "colores[1:3]"
   ],
   "metadata": {
    "collapsed": false,
    "ExecuteTime": {
     "end_time": "2024-01-08T06:15:13.998910400Z",
     "start_time": "2024-01-08T06:15:13.991059600Z"
    }
   },
   "id": "89232735fd9d9cb5",
   "execution_count": 56
  },
  {
   "cell_type": "code",
   "outputs": [
    {
     "data": {
      "text/plain": "'verde'"
     },
     "execution_count": 57,
     "metadata": {},
     "output_type": "execute_result"
    }
   ],
   "source": [
    "# con pop se puede obtener un item de la lista y removerlo\n",
    "\n",
    "pop_item = colores.pop(1)\n",
    "pop_item"
   ],
   "metadata": {
    "collapsed": false,
    "ExecuteTime": {
     "end_time": "2024-01-08T06:16:03.812590600Z",
     "start_time": "2024-01-08T06:16:03.801447400Z"
    }
   },
   "id": "76de25e5fa3df13e",
   "execution_count": 57
  },
  {
   "cell_type": "code",
   "outputs": [
    {
     "data": {
      "text/plain": "['rojo', 'azul', 'morado']"
     },
     "execution_count": 58,
     "metadata": {},
     "output_type": "execute_result"
    }
   ],
   "source": [
    "colores # ya no está verde"
   ],
   "metadata": {
    "collapsed": false,
    "ExecuteTime": {
     "end_time": "2024-01-08T06:16:17.795722400Z",
     "start_time": "2024-01-08T06:16:17.785729300Z"
    }
   },
   "id": "39d0abb5e5f419ae",
   "execution_count": 58
  },
  {
   "cell_type": "code",
   "outputs": [
    {
     "data": {
      "text/plain": "['rojo', 'azul']"
     },
     "execution_count": 59,
     "metadata": {},
     "output_type": "execute_result"
    }
   ],
   "source": [
    "# se pueden quitar con remove\n",
    "\n",
    "colores.remove('morado')\n",
    "colores"
   ],
   "metadata": {
    "collapsed": false,
    "ExecuteTime": {
     "end_time": "2024-01-08T06:16:49.086365700Z",
     "start_time": "2024-01-08T06:16:49.077575400Z"
    }
   },
   "id": "73da9867c04d91d7",
   "execution_count": 59
  },
  {
   "cell_type": "markdown",
   "source": [
    "### Extrayendo datos de diccionarios\n",
    "\n"
   ],
   "metadata": {
    "collapsed": false
   },
   "id": "805a75ebd0557b14"
  },
  {
   "cell_type": "code",
   "outputs": [],
   "source": [
    "informacion = {}"
   ],
   "metadata": {
    "collapsed": false,
    "ExecuteTime": {
     "end_time": "2024-01-08T06:17:42.324390600Z",
     "start_time": "2024-01-08T06:17:42.313266200Z"
    }
   },
   "id": "7989425ddcdef03c",
   "execution_count": 60
  },
  {
   "cell_type": "code",
   "outputs": [
    {
     "name": "stdout",
     "output_type": "stream",
     "text": [
      "La altura del contacto es None\n"
     ]
    }
   ],
   "source": [
    "# usando .get() \n",
    "\n",
    "resultado = informacion.get('altura')\n",
    "print('La altura del contacto es', resultado)"
   ],
   "metadata": {
    "collapsed": false,
    "ExecuteTime": {
     "end_time": "2024-01-08T06:36:39.418051700Z",
     "start_time": "2024-01-08T06:36:39.406641200Z"
    }
   },
   "id": "745f7aaa03d62e26",
   "execution_count": 61
  },
  {
   "cell_type": "code",
   "outputs": [
    {
     "name": "stdout",
     "output_type": "stream",
     "text": [
      "La altura del contacto es No hay altura\n"
     ]
    }
   ],
   "source": [
    "# cuando no hay clave\n",
    "\n",
    "resultado = informacion.get('altura', 'No hay altura')\n",
    "print('La altura del contacto es', resultado)"
   ],
   "metadata": {
    "collapsed": false,
    "ExecuteTime": {
     "end_time": "2024-01-08T06:37:11.478815600Z",
     "start_time": "2024-01-08T06:37:11.467119100Z"
    }
   },
   "id": "665a5961b9a91715",
   "execution_count": 62
  },
  {
   "cell_type": "code",
   "outputs": [
    {
     "name": "stdout",
     "output_type": "stream",
     "text": [
      "La edad es 26\n",
      "{}\n"
     ]
    }
   ],
   "source": [
    "informacion['edad'] = 26\n",
    "print('La edad es', informacion.pop('edad'))\n",
    "print(informacion)"
   ],
   "metadata": {
    "collapsed": false,
    "ExecuteTime": {
     "end_time": "2024-01-08T06:38:07.556239900Z",
     "start_time": "2024-01-08T06:38:07.544585200Z"
    }
   },
   "id": "d476bb62909e25d8",
   "execution_count": 63
  },
  {
   "cell_type": "code",
   "outputs": [
    {
     "data": {
      "text/plain": "[1, 2, 3, 4, 5, 6]"
     },
     "execution_count": 66,
     "metadata": {},
     "output_type": "execute_result"
    }
   ],
   "source": [
    "[1, 2, 3] + [4, 5, 6]"
   ],
   "metadata": {
    "collapsed": false,
    "ExecuteTime": {
     "end_time": "2024-01-08T06:43:21.704316400Z",
     "start_time": "2024-01-08T06:43:21.693808900Z"
    }
   },
   "id": "f2eab5009ce89481",
   "execution_count": 66
  }
 ],
 "metadata": {
  "kernelspec": {
   "display_name": "Python 3",
   "language": "python",
   "name": "python3"
  },
  "language_info": {
   "codemirror_mode": {
    "name": "ipython",
    "version": 2
   },
   "file_extension": ".py",
   "mimetype": "text/x-python",
   "name": "python",
   "nbconvert_exporter": "python",
   "pygments_lexer": "ipython2",
   "version": "2.7.6"
  }
 },
 "nbformat": 4,
 "nbformat_minor": 5
}
